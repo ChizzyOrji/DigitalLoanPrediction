{
 "cells": [
  {
   "cell_type": "markdown",
   "id": "5b2e58a2",
   "metadata": {},
   "source": [
    "# IMPORT LIBRARIES"
   ]
  },
  {
   "cell_type": "code",
   "execution_count": 1,
   "id": "5618651f",
   "metadata": {},
   "outputs": [],
   "source": [
    "# import relevant libraries\n",
    "\n",
    "import pandas as pd\n",
    "import numpy as np\n",
    "import seaborn as sns\n",
    "import matplotlib.pyplot as plt\n",
    "%matplotlib inline\n",
    "from datetime import datetime, date"
   ]
  },
  {
   "cell_type": "markdown",
   "id": "b6eb5e8b",
   "metadata": {},
   "source": [
    "# MERGE CSV FILES AND LOAD DATASET"
   ]
  },
  {
   "cell_type": "code",
   "execution_count": 2,
   "id": "a4565fd2",
   "metadata": {},
   "outputs": [],
   "source": [
    "#merge CSV files to create the loan dataset\n",
    "\n",
    "file1 = pd.read_csv(\"C:\\\\Users\\\\orjic\\\\Downloads\\\\cstc_project\\\\Dataset\\\\traindemographics.csv\")\n",
    "file2 = pd.read_csv(\"C:\\\\Users\\\\orjic\\\\Downloads\\\\cstc_project\\\\Dataset\\\\trainperf.csv\")\n",
    "\n",
    "# using merge function by setting how='inner'\n",
    "df = pd.merge(file1, file2, \n",
    "                   on='customerid', \n",
    "                   how='right')"
   ]
  },
  {
   "cell_type": "code",
   "execution_count": 3,
   "id": "4fa7c8a4",
   "metadata": {},
   "outputs": [
    {
     "data": {
      "text/html": [
       "<div>\n",
       "<style scoped>\n",
       "    .dataframe tbody tr th:only-of-type {\n",
       "        vertical-align: middle;\n",
       "    }\n",
       "\n",
       "    .dataframe tbody tr th {\n",
       "        vertical-align: top;\n",
       "    }\n",
       "\n",
       "    .dataframe thead th {\n",
       "        text-align: right;\n",
       "    }\n",
       "</style>\n",
       "<table border=\"1\" class=\"dataframe\">\n",
       "  <thead>\n",
       "    <tr style=\"text-align: right;\">\n",
       "      <th></th>\n",
       "      <th>customerid</th>\n",
       "      <th>birthdate</th>\n",
       "      <th>bank_account_type</th>\n",
       "      <th>longitude_gps</th>\n",
       "      <th>latitude_gps</th>\n",
       "      <th>bank_name_clients</th>\n",
       "      <th>bank_branch_clients</th>\n",
       "      <th>employment_status_clients</th>\n",
       "      <th>level_of_education_clients</th>\n",
       "      <th>systemloanid</th>\n",
       "      <th>loannumber</th>\n",
       "      <th>approveddate</th>\n",
       "      <th>creationdate</th>\n",
       "      <th>loanamount</th>\n",
       "      <th>totaldue</th>\n",
       "      <th>termdays</th>\n",
       "      <th>referredby</th>\n",
       "      <th>good_bad_flag</th>\n",
       "    </tr>\n",
       "  </thead>\n",
       "  <tbody>\n",
       "    <tr>\n",
       "      <th>0</th>\n",
       "      <td>8a2a81a74ce8c05d014cfb32a0da1049</td>\n",
       "      <td>1972-01-15 00:00:00.000000</td>\n",
       "      <td>Other</td>\n",
       "      <td>3.432010</td>\n",
       "      <td>6.433055</td>\n",
       "      <td>Diamond Bank</td>\n",
       "      <td>NaN</td>\n",
       "      <td>Permanent</td>\n",
       "      <td>Post-Graduate</td>\n",
       "      <td>301994762</td>\n",
       "      <td>12</td>\n",
       "      <td>2017-07-25 08:22:56.000000</td>\n",
       "      <td>2017-07-25 07:22:47.000000</td>\n",
       "      <td>30000.0</td>\n",
       "      <td>34500.0</td>\n",
       "      <td>30</td>\n",
       "      <td>NaN</td>\n",
       "      <td>Good</td>\n",
       "    </tr>\n",
       "    <tr>\n",
       "      <th>1</th>\n",
       "      <td>8a85886e54beabf90154c0a29ae757c0</td>\n",
       "      <td>1985-08-23 00:00:00.000000</td>\n",
       "      <td>Savings</td>\n",
       "      <td>3.885298</td>\n",
       "      <td>7.320700</td>\n",
       "      <td>GT Bank</td>\n",
       "      <td>DUGBE,IBADAN</td>\n",
       "      <td>Permanent</td>\n",
       "      <td>Graduate</td>\n",
       "      <td>301965204</td>\n",
       "      <td>2</td>\n",
       "      <td>2017-07-05 17:04:41.000000</td>\n",
       "      <td>2017-07-05 16:04:18.000000</td>\n",
       "      <td>15000.0</td>\n",
       "      <td>17250.0</td>\n",
       "      <td>30</td>\n",
       "      <td>NaN</td>\n",
       "      <td>Good</td>\n",
       "    </tr>\n",
       "    <tr>\n",
       "      <th>2</th>\n",
       "      <td>8a8588f35438fe12015444567666018e</td>\n",
       "      <td>1984-09-18 00:00:00.000000</td>\n",
       "      <td>Other</td>\n",
       "      <td>11.139350</td>\n",
       "      <td>10.292041</td>\n",
       "      <td>EcoBank</td>\n",
       "      <td>NaN</td>\n",
       "      <td>Permanent</td>\n",
       "      <td>NaN</td>\n",
       "      <td>301966580</td>\n",
       "      <td>7</td>\n",
       "      <td>2017-07-06 14:52:57.000000</td>\n",
       "      <td>2017-07-06 13:52:51.000000</td>\n",
       "      <td>20000.0</td>\n",
       "      <td>22250.0</td>\n",
       "      <td>15</td>\n",
       "      <td>NaN</td>\n",
       "      <td>Good</td>\n",
       "    </tr>\n",
       "    <tr>\n",
       "      <th>3</th>\n",
       "      <td>8a85890754145ace015429211b513e16</td>\n",
       "      <td>1977-10-10 00:00:00.000000</td>\n",
       "      <td>Savings</td>\n",
       "      <td>3.985770</td>\n",
       "      <td>7.491708</td>\n",
       "      <td>First Bank</td>\n",
       "      <td>NaN</td>\n",
       "      <td>Permanent</td>\n",
       "      <td>NaN</td>\n",
       "      <td>301999343</td>\n",
       "      <td>3</td>\n",
       "      <td>2017-07-27 19:00:41.000000</td>\n",
       "      <td>2017-07-27 18:00:35.000000</td>\n",
       "      <td>10000.0</td>\n",
       "      <td>11500.0</td>\n",
       "      <td>15</td>\n",
       "      <td>NaN</td>\n",
       "      <td>Good</td>\n",
       "    </tr>\n",
       "    <tr>\n",
       "      <th>4</th>\n",
       "      <td>8a858970548359cc0154883481981866</td>\n",
       "      <td>1986-09-07 00:00:00.000000</td>\n",
       "      <td>Other</td>\n",
       "      <td>7.457913</td>\n",
       "      <td>9.076574</td>\n",
       "      <td>GT Bank</td>\n",
       "      <td>NaN</td>\n",
       "      <td>Permanent</td>\n",
       "      <td>Primary</td>\n",
       "      <td>301962360</td>\n",
       "      <td>9</td>\n",
       "      <td>2017-07-03 23:42:45.000000</td>\n",
       "      <td>2017-07-03 22:42:39.000000</td>\n",
       "      <td>40000.0</td>\n",
       "      <td>44000.0</td>\n",
       "      <td>30</td>\n",
       "      <td>NaN</td>\n",
       "      <td>Good</td>\n",
       "    </tr>\n",
       "  </tbody>\n",
       "</table>\n",
       "</div>"
      ],
      "text/plain": [
       "                         customerid                   birthdate  \\\n",
       "0  8a2a81a74ce8c05d014cfb32a0da1049  1972-01-15 00:00:00.000000   \n",
       "1  8a85886e54beabf90154c0a29ae757c0  1985-08-23 00:00:00.000000   \n",
       "2  8a8588f35438fe12015444567666018e  1984-09-18 00:00:00.000000   \n",
       "3  8a85890754145ace015429211b513e16  1977-10-10 00:00:00.000000   \n",
       "4  8a858970548359cc0154883481981866  1986-09-07 00:00:00.000000   \n",
       "\n",
       "  bank_account_type  longitude_gps  latitude_gps bank_name_clients  \\\n",
       "0             Other       3.432010      6.433055      Diamond Bank   \n",
       "1           Savings       3.885298      7.320700           GT Bank   \n",
       "2             Other      11.139350     10.292041           EcoBank   \n",
       "3           Savings       3.985770      7.491708        First Bank   \n",
       "4             Other       7.457913      9.076574           GT Bank   \n",
       "\n",
       "  bank_branch_clients employment_status_clients level_of_education_clients  \\\n",
       "0                 NaN                 Permanent              Post-Graduate   \n",
       "1        DUGBE,IBADAN                 Permanent                   Graduate   \n",
       "2                 NaN                 Permanent                        NaN   \n",
       "3                 NaN                 Permanent                        NaN   \n",
       "4                 NaN                 Permanent                    Primary   \n",
       "\n",
       "   systemloanid  loannumber                approveddate  \\\n",
       "0     301994762          12  2017-07-25 08:22:56.000000   \n",
       "1     301965204           2  2017-07-05 17:04:41.000000   \n",
       "2     301966580           7  2017-07-06 14:52:57.000000   \n",
       "3     301999343           3  2017-07-27 19:00:41.000000   \n",
       "4     301962360           9  2017-07-03 23:42:45.000000   \n",
       "\n",
       "                 creationdate  loanamount  totaldue  termdays referredby  \\\n",
       "0  2017-07-25 07:22:47.000000     30000.0   34500.0        30        NaN   \n",
       "1  2017-07-05 16:04:18.000000     15000.0   17250.0        30        NaN   \n",
       "2  2017-07-06 13:52:51.000000     20000.0   22250.0        15        NaN   \n",
       "3  2017-07-27 18:00:35.000000     10000.0   11500.0        15        NaN   \n",
       "4  2017-07-03 22:42:39.000000     40000.0   44000.0        30        NaN   \n",
       "\n",
       "  good_bad_flag  \n",
       "0          Good  \n",
       "1          Good  \n",
       "2          Good  \n",
       "3          Good  \n",
       "4          Good  "
      ]
     },
     "execution_count": 3,
     "metadata": {},
     "output_type": "execute_result"
    }
   ],
   "source": [
    "# view the first n rows of the dataframe\n",
    "\n",
    "df.head()"
   ]
  },
  {
   "cell_type": "code",
   "execution_count": 4,
   "id": "6ee495fd",
   "metadata": {},
   "outputs": [
    {
     "data": {
      "text/html": [
       "<div>\n",
       "<style scoped>\n",
       "    .dataframe tbody tr th:only-of-type {\n",
       "        vertical-align: middle;\n",
       "    }\n",
       "\n",
       "    .dataframe tbody tr th {\n",
       "        vertical-align: top;\n",
       "    }\n",
       "\n",
       "    .dataframe thead th {\n",
       "        text-align: right;\n",
       "    }\n",
       "</style>\n",
       "<table border=\"1\" class=\"dataframe\">\n",
       "  <thead>\n",
       "    <tr style=\"text-align: right;\">\n",
       "      <th></th>\n",
       "      <th>longitude_gps</th>\n",
       "      <th>latitude_gps</th>\n",
       "      <th>systemloanid</th>\n",
       "      <th>loannumber</th>\n",
       "      <th>loanamount</th>\n",
       "      <th>totaldue</th>\n",
       "      <th>termdays</th>\n",
       "    </tr>\n",
       "  </thead>\n",
       "  <tbody>\n",
       "    <tr>\n",
       "      <th>count</th>\n",
       "      <td>3277.000000</td>\n",
       "      <td>3277.000000</td>\n",
       "      <td>4.376000e+03</td>\n",
       "      <td>4376.000000</td>\n",
       "      <td>4376.000000</td>\n",
       "      <td>4376.000000</td>\n",
       "      <td>4376.000000</td>\n",
       "    </tr>\n",
       "    <tr>\n",
       "      <th>mean</th>\n",
       "      <td>4.534611</td>\n",
       "      <td>7.292799</td>\n",
       "      <td>3.019810e+08</td>\n",
       "      <td>5.169333</td>\n",
       "      <td>17803.930530</td>\n",
       "      <td>21252.565288</td>\n",
       "      <td>29.266453</td>\n",
       "    </tr>\n",
       "    <tr>\n",
       "      <th>std</th>\n",
       "      <td>7.916626</td>\n",
       "      <td>3.268758</td>\n",
       "      <td>1.342393e+04</td>\n",
       "      <td>3.652679</td>\n",
       "      <td>10749.041391</td>\n",
       "      <td>11943.706857</td>\n",
       "      <td>11.513424</td>\n",
       "    </tr>\n",
       "    <tr>\n",
       "      <th>min</th>\n",
       "      <td>-118.247009</td>\n",
       "      <td>-33.868818</td>\n",
       "      <td>3.019585e+08</td>\n",
       "      <td>2.000000</td>\n",
       "      <td>10000.000000</td>\n",
       "      <td>10000.000000</td>\n",
       "      <td>15.000000</td>\n",
       "    </tr>\n",
       "    <tr>\n",
       "      <th>25%</th>\n",
       "      <td>3.354984</td>\n",
       "      <td>6.473645</td>\n",
       "      <td>3.019691e+08</td>\n",
       "      <td>2.000000</td>\n",
       "      <td>10000.000000</td>\n",
       "      <td>13000.000000</td>\n",
       "      <td>30.000000</td>\n",
       "    </tr>\n",
       "    <tr>\n",
       "      <th>50%</th>\n",
       "      <td>3.587546</td>\n",
       "      <td>6.625954</td>\n",
       "      <td>3.019801e+08</td>\n",
       "      <td>4.000000</td>\n",
       "      <td>10000.000000</td>\n",
       "      <td>13000.000000</td>\n",
       "      <td>30.000000</td>\n",
       "    </tr>\n",
       "    <tr>\n",
       "      <th>75%</th>\n",
       "      <td>6.478157</td>\n",
       "      <td>7.429882</td>\n",
       "      <td>3.019935e+08</td>\n",
       "      <td>7.000000</td>\n",
       "      <td>20000.000000</td>\n",
       "      <td>24500.000000</td>\n",
       "      <td>30.000000</td>\n",
       "    </tr>\n",
       "    <tr>\n",
       "      <th>max</th>\n",
       "      <td>151.209290</td>\n",
       "      <td>71.228069</td>\n",
       "      <td>3.020040e+08</td>\n",
       "      <td>27.000000</td>\n",
       "      <td>60000.000000</td>\n",
       "      <td>68100.000000</td>\n",
       "      <td>90.000000</td>\n",
       "    </tr>\n",
       "  </tbody>\n",
       "</table>\n",
       "</div>"
      ],
      "text/plain": [
       "       longitude_gps  latitude_gps  systemloanid   loannumber    loanamount  \\\n",
       "count    3277.000000   3277.000000  4.376000e+03  4376.000000   4376.000000   \n",
       "mean        4.534611      7.292799  3.019810e+08     5.169333  17803.930530   \n",
       "std         7.916626      3.268758  1.342393e+04     3.652679  10749.041391   \n",
       "min      -118.247009    -33.868818  3.019585e+08     2.000000  10000.000000   \n",
       "25%         3.354984      6.473645  3.019691e+08     2.000000  10000.000000   \n",
       "50%         3.587546      6.625954  3.019801e+08     4.000000  10000.000000   \n",
       "75%         6.478157      7.429882  3.019935e+08     7.000000  20000.000000   \n",
       "max       151.209290     71.228069  3.020040e+08    27.000000  60000.000000   \n",
       "\n",
       "           totaldue     termdays  \n",
       "count   4376.000000  4376.000000  \n",
       "mean   21252.565288    29.266453  \n",
       "std    11943.706857    11.513424  \n",
       "min    10000.000000    15.000000  \n",
       "25%    13000.000000    30.000000  \n",
       "50%    13000.000000    30.000000  \n",
       "75%    24500.000000    30.000000  \n",
       "max    68100.000000    90.000000  "
      ]
     },
     "execution_count": 4,
     "metadata": {},
     "output_type": "execute_result"
    }
   ],
   "source": [
    "# calculate the statistical data of the DataFrame\n",
    "\n",
    "df.describe()"
   ]
  },
  {
   "cell_type": "code",
   "execution_count": 5,
   "id": "bf682b44",
   "metadata": {},
   "outputs": [
    {
     "name": "stdout",
     "output_type": "stream",
     "text": [
      "<class 'pandas.core.frame.DataFrame'>\n",
      "Int64Index: 4376 entries, 0 to 4375\n",
      "Data columns (total 18 columns):\n",
      " #   Column                      Non-Null Count  Dtype  \n",
      "---  ------                      --------------  -----  \n",
      " 0   customerid                  4376 non-null   object \n",
      " 1   birthdate                   3277 non-null   object \n",
      " 2   bank_account_type           3277 non-null   object \n",
      " 3   longitude_gps               3277 non-null   float64\n",
      " 4   latitude_gps                3277 non-null   float64\n",
      " 5   bank_name_clients           3277 non-null   object \n",
      " 6   bank_branch_clients         33 non-null     object \n",
      " 7   employment_status_clients   2784 non-null   object \n",
      " 8   level_of_education_clients  443 non-null    object \n",
      " 9   systemloanid                4376 non-null   int64  \n",
      " 10  loannumber                  4376 non-null   int64  \n",
      " 11  approveddate                4376 non-null   object \n",
      " 12  creationdate                4376 non-null   object \n",
      " 13  loanamount                  4376 non-null   float64\n",
      " 14  totaldue                    4376 non-null   float64\n",
      " 15  termdays                    4376 non-null   int64  \n",
      " 16  referredby                  589 non-null    object \n",
      " 17  good_bad_flag               4376 non-null   object \n",
      "dtypes: float64(4), int64(3), object(11)\n",
      "memory usage: 649.6+ KB\n"
     ]
    }
   ],
   "source": [
    "df.info()"
   ]
  },
  {
   "cell_type": "markdown",
   "id": "9d9601ec",
   "metadata": {},
   "source": [
    "# DATA PREPROCESSING"
   ]
  },
  {
   "cell_type": "code",
   "execution_count": 6,
   "id": "8162487a",
   "metadata": {},
   "outputs": [
    {
     "data": {
      "text/html": [
       "<div>\n",
       "<style scoped>\n",
       "    .dataframe tbody tr th:only-of-type {\n",
       "        vertical-align: middle;\n",
       "    }\n",
       "\n",
       "    .dataframe tbody tr th {\n",
       "        vertical-align: top;\n",
       "    }\n",
       "\n",
       "    .dataframe thead th {\n",
       "        text-align: right;\n",
       "    }\n",
       "</style>\n",
       "<table border=\"1\" class=\"dataframe\">\n",
       "  <thead>\n",
       "    <tr style=\"text-align: right;\">\n",
       "      <th></th>\n",
       "      <th>customerid</th>\n",
       "      <th>birthdate</th>\n",
       "      <th>bank_account_type</th>\n",
       "      <th>longitude_gps</th>\n",
       "      <th>latitude_gps</th>\n",
       "      <th>bank_name_clients</th>\n",
       "      <th>bank_branch_clients</th>\n",
       "      <th>employment_status_clients</th>\n",
       "      <th>level_of_education_clients</th>\n",
       "      <th>systemloanid</th>\n",
       "      <th>loannumber</th>\n",
       "      <th>approveddate</th>\n",
       "      <th>creationdate</th>\n",
       "      <th>loanamount</th>\n",
       "      <th>totaldue</th>\n",
       "      <th>termdays</th>\n",
       "      <th>referredby</th>\n",
       "      <th>good_bad_flag</th>\n",
       "    </tr>\n",
       "  </thead>\n",
       "  <tbody>\n",
       "    <tr>\n",
       "      <th>435</th>\n",
       "      <td>8a1088a0484472eb01484669e3ce4e0b</td>\n",
       "      <td>1989-11-09 00:00:00.000000</td>\n",
       "      <td>Savings</td>\n",
       "      <td>3.351667</td>\n",
       "      <td>6.657019</td>\n",
       "      <td>GT Bank</td>\n",
       "      <td>OJUELEGBA</td>\n",
       "      <td>Permanent</td>\n",
       "      <td>Primary</td>\n",
       "      <td>301999397</td>\n",
       "      <td>2</td>\n",
       "      <td>2017-07-27 19:44:08.000000</td>\n",
       "      <td>2017-07-27 18:44:00.000000</td>\n",
       "      <td>10000.0</td>\n",
       "      <td>11500.0</td>\n",
       "      <td>15</td>\n",
       "      <td>NaN</td>\n",
       "      <td>Bad</td>\n",
       "    </tr>\n",
       "    <tr>\n",
       "      <th>2695</th>\n",
       "      <td>8a1a1e7e4f707f8b014f797718316cad</td>\n",
       "      <td>1979-10-18 00:00:00.000000</td>\n",
       "      <td>Other</td>\n",
       "      <td>3.395230</td>\n",
       "      <td>6.592192</td>\n",
       "      <td>Standard Chartered</td>\n",
       "      <td>NaN</td>\n",
       "      <td>Permanent</td>\n",
       "      <td>Graduate</td>\n",
       "      <td>301997672</td>\n",
       "      <td>5</td>\n",
       "      <td>2017-07-26 20:01:54.000000</td>\n",
       "      <td>2017-07-26 19:01:46.000000</td>\n",
       "      <td>30000.0</td>\n",
       "      <td>39000.0</td>\n",
       "      <td>60</td>\n",
       "      <td>NaN</td>\n",
       "      <td>Good</td>\n",
       "    </tr>\n",
       "    <tr>\n",
       "      <th>3305</th>\n",
       "      <td>8a1a32fc49b632520149c3b8fdf85139</td>\n",
       "      <td>1979-01-29 00:00:00.000000</td>\n",
       "      <td>Savings</td>\n",
       "      <td>3.306388</td>\n",
       "      <td>6.651843</td>\n",
       "      <td>GT Bank</td>\n",
       "      <td>MUSHIN BRANCH</td>\n",
       "      <td>Permanent</td>\n",
       "      <td>Graduate</td>\n",
       "      <td>301976551</td>\n",
       "      <td>8</td>\n",
       "      <td>2017-07-13 19:22:15.000000</td>\n",
       "      <td>2017-07-13 18:22:05.000000</td>\n",
       "      <td>20000.0</td>\n",
       "      <td>24500.0</td>\n",
       "      <td>30</td>\n",
       "      <td>NaN</td>\n",
       "      <td>Good</td>\n",
       "    </tr>\n",
       "    <tr>\n",
       "      <th>3150</th>\n",
       "      <td>8a1eb5ba49a682300149c3c068b806c7</td>\n",
       "      <td>1978-11-25 00:00:00.000000</td>\n",
       "      <td>Savings</td>\n",
       "      <td>3.426698</td>\n",
       "      <td>6.423048</td>\n",
       "      <td>First Bank</td>\n",
       "      <td>17, SANUSI FAFUNWA STREET, VICTORIA ISLAND, LAGOS</td>\n",
       "      <td>Permanent</td>\n",
       "      <td>Secondary</td>\n",
       "      <td>301975382</td>\n",
       "      <td>9</td>\n",
       "      <td>2017-07-13 00:34:03.000000</td>\n",
       "      <td>2017-07-12 23:33:54.000000</td>\n",
       "      <td>30000.0</td>\n",
       "      <td>39000.0</td>\n",
       "      <td>60</td>\n",
       "      <td>NaN</td>\n",
       "      <td>Good</td>\n",
       "    </tr>\n",
       "    <tr>\n",
       "      <th>126</th>\n",
       "      <td>8a1edbf14734127f0147356fdb1b1eb2</td>\n",
       "      <td>NaN</td>\n",
       "      <td>NaN</td>\n",
       "      <td>NaN</td>\n",
       "      <td>NaN</td>\n",
       "      <td>NaN</td>\n",
       "      <td>NaN</td>\n",
       "      <td>NaN</td>\n",
       "      <td>NaN</td>\n",
       "      <td>301979352</td>\n",
       "      <td>3</td>\n",
       "      <td>2017-07-15 16:02:04.000000</td>\n",
       "      <td>2017-07-15 15:01:56.000000</td>\n",
       "      <td>10000.0</td>\n",
       "      <td>11500.0</td>\n",
       "      <td>15</td>\n",
       "      <td>NaN</td>\n",
       "      <td>Good</td>\n",
       "    </tr>\n",
       "    <tr>\n",
       "      <th>...</th>\n",
       "      <td>...</td>\n",
       "      <td>...</td>\n",
       "      <td>...</td>\n",
       "      <td>...</td>\n",
       "      <td>...</td>\n",
       "      <td>...</td>\n",
       "      <td>...</td>\n",
       "      <td>...</td>\n",
       "      <td>...</td>\n",
       "      <td>...</td>\n",
       "      <td>...</td>\n",
       "      <td>...</td>\n",
       "      <td>...</td>\n",
       "      <td>...</td>\n",
       "      <td>...</td>\n",
       "      <td>...</td>\n",
       "      <td>...</td>\n",
       "      <td>...</td>\n",
       "    </tr>\n",
       "    <tr>\n",
       "      <th>1793</th>\n",
       "      <td>8a858fff5a28d297015a33bc2e845305</td>\n",
       "      <td>1980-09-04 00:00:00.000000</td>\n",
       "      <td>Savings</td>\n",
       "      <td>6.985570</td>\n",
       "      <td>4.806448</td>\n",
       "      <td>Union Bank</td>\n",
       "      <td>NaN</td>\n",
       "      <td>Permanent</td>\n",
       "      <td>NaN</td>\n",
       "      <td>301961209</td>\n",
       "      <td>7</td>\n",
       "      <td>2017-07-03 15:05:14.000000</td>\n",
       "      <td>2017-07-03 14:04:07.000000</td>\n",
       "      <td>30000.0</td>\n",
       "      <td>39000.0</td>\n",
       "      <td>60</td>\n",
       "      <td>NaN</td>\n",
       "      <td>Good</td>\n",
       "    </tr>\n",
       "    <tr>\n",
       "      <th>4163</th>\n",
       "      <td>8a858fff5a36fe68015a37f8550a02a2</td>\n",
       "      <td>1987-09-10 00:00:00.000000</td>\n",
       "      <td>Savings</td>\n",
       "      <td>3.491421</td>\n",
       "      <td>6.439399</td>\n",
       "      <td>First Bank</td>\n",
       "      <td>NaN</td>\n",
       "      <td>Permanent</td>\n",
       "      <td>NaN</td>\n",
       "      <td>301989105</td>\n",
       "      <td>7</td>\n",
       "      <td>2017-07-21 11:24:08.000000</td>\n",
       "      <td>2017-07-21 10:24:01.000000</td>\n",
       "      <td>30000.0</td>\n",
       "      <td>34500.0</td>\n",
       "      <td>30</td>\n",
       "      <td>NaN</td>\n",
       "      <td>Good</td>\n",
       "    </tr>\n",
       "    <tr>\n",
       "      <th>3833</th>\n",
       "      <td>8a858fff5a36fe68015a3ac5851618ab</td>\n",
       "      <td>NaN</td>\n",
       "      <td>NaN</td>\n",
       "      <td>NaN</td>\n",
       "      <td>NaN</td>\n",
       "      <td>NaN</td>\n",
       "      <td>NaN</td>\n",
       "      <td>NaN</td>\n",
       "      <td>NaN</td>\n",
       "      <td>301965370</td>\n",
       "      <td>2</td>\n",
       "      <td>2017-07-05 18:45:42.000000</td>\n",
       "      <td>2017-07-05 17:45:37.000000</td>\n",
       "      <td>20000.0</td>\n",
       "      <td>24500.0</td>\n",
       "      <td>30</td>\n",
       "      <td>NaN</td>\n",
       "      <td>Good</td>\n",
       "    </tr>\n",
       "    <tr>\n",
       "      <th>3620</th>\n",
       "      <td>8a858fff5a36fe68015a3b8dcb8a3843</td>\n",
       "      <td>1989-08-30 00:00:00.000000</td>\n",
       "      <td>Savings</td>\n",
       "      <td>3.291219</td>\n",
       "      <td>6.559089</td>\n",
       "      <td>GT Bank</td>\n",
       "      <td>NaN</td>\n",
       "      <td>NaN</td>\n",
       "      <td>NaN</td>\n",
       "      <td>301992274</td>\n",
       "      <td>7</td>\n",
       "      <td>2017-07-23 18:39:10.000000</td>\n",
       "      <td>2017-07-23 17:39:04.000000</td>\n",
       "      <td>30000.0</td>\n",
       "      <td>34500.0</td>\n",
       "      <td>30</td>\n",
       "      <td>NaN</td>\n",
       "      <td>Good</td>\n",
       "    </tr>\n",
       "    <tr>\n",
       "      <th>777</th>\n",
       "      <td>8a858fff5c79144c015c7bdbfc086ce1</td>\n",
       "      <td>1989-10-24 00:00:00.000000</td>\n",
       "      <td>Savings</td>\n",
       "      <td>7.224332</td>\n",
       "      <td>8.884774</td>\n",
       "      <td>FCMB</td>\n",
       "      <td>NaN</td>\n",
       "      <td>NaN</td>\n",
       "      <td>NaN</td>\n",
       "      <td>301967027</td>\n",
       "      <td>2</td>\n",
       "      <td>2017-07-06 19:42:39.000000</td>\n",
       "      <td>2017-07-06 18:42:34.000000</td>\n",
       "      <td>10000.0</td>\n",
       "      <td>13000.0</td>\n",
       "      <td>30</td>\n",
       "      <td>NaN</td>\n",
       "      <td>Good</td>\n",
       "    </tr>\n",
       "  </tbody>\n",
       "</table>\n",
       "<p>4360 rows × 18 columns</p>\n",
       "</div>"
      ],
      "text/plain": [
       "                            customerid                   birthdate  \\\n",
       "435   8a1088a0484472eb01484669e3ce4e0b  1989-11-09 00:00:00.000000   \n",
       "2695  8a1a1e7e4f707f8b014f797718316cad  1979-10-18 00:00:00.000000   \n",
       "3305  8a1a32fc49b632520149c3b8fdf85139  1979-01-29 00:00:00.000000   \n",
       "3150  8a1eb5ba49a682300149c3c068b806c7  1978-11-25 00:00:00.000000   \n",
       "126   8a1edbf14734127f0147356fdb1b1eb2                         NaN   \n",
       "...                                ...                         ...   \n",
       "1793  8a858fff5a28d297015a33bc2e845305  1980-09-04 00:00:00.000000   \n",
       "4163  8a858fff5a36fe68015a37f8550a02a2  1987-09-10 00:00:00.000000   \n",
       "3833  8a858fff5a36fe68015a3ac5851618ab                         NaN   \n",
       "3620  8a858fff5a36fe68015a3b8dcb8a3843  1989-08-30 00:00:00.000000   \n",
       "777   8a858fff5c79144c015c7bdbfc086ce1  1989-10-24 00:00:00.000000   \n",
       "\n",
       "     bank_account_type  longitude_gps  latitude_gps   bank_name_clients  \\\n",
       "435            Savings       3.351667      6.657019             GT Bank   \n",
       "2695             Other       3.395230      6.592192  Standard Chartered   \n",
       "3305           Savings       3.306388      6.651843             GT Bank   \n",
       "3150           Savings       3.426698      6.423048          First Bank   \n",
       "126                NaN            NaN           NaN                 NaN   \n",
       "...                ...            ...           ...                 ...   \n",
       "1793           Savings       6.985570      4.806448          Union Bank   \n",
       "4163           Savings       3.491421      6.439399          First Bank   \n",
       "3833               NaN            NaN           NaN                 NaN   \n",
       "3620           Savings       3.291219      6.559089             GT Bank   \n",
       "777            Savings       7.224332      8.884774                FCMB   \n",
       "\n",
       "                                    bank_branch_clients  \\\n",
       "435                                           OJUELEGBA   \n",
       "2695                                                NaN   \n",
       "3305                                      MUSHIN BRANCH   \n",
       "3150  17, SANUSI FAFUNWA STREET, VICTORIA ISLAND, LAGOS   \n",
       "126                                                 NaN   \n",
       "...                                                 ...   \n",
       "1793                                                NaN   \n",
       "4163                                                NaN   \n",
       "3833                                                NaN   \n",
       "3620                                                NaN   \n",
       "777                                                 NaN   \n",
       "\n",
       "     employment_status_clients level_of_education_clients  systemloanid  \\\n",
       "435                  Permanent                    Primary     301999397   \n",
       "2695                 Permanent                   Graduate     301997672   \n",
       "3305                 Permanent                   Graduate     301976551   \n",
       "3150                 Permanent                  Secondary     301975382   \n",
       "126                        NaN                        NaN     301979352   \n",
       "...                        ...                        ...           ...   \n",
       "1793                 Permanent                        NaN     301961209   \n",
       "4163                 Permanent                        NaN     301989105   \n",
       "3833                       NaN                        NaN     301965370   \n",
       "3620                       NaN                        NaN     301992274   \n",
       "777                        NaN                        NaN     301967027   \n",
       "\n",
       "      loannumber                approveddate                creationdate  \\\n",
       "435            2  2017-07-27 19:44:08.000000  2017-07-27 18:44:00.000000   \n",
       "2695           5  2017-07-26 20:01:54.000000  2017-07-26 19:01:46.000000   \n",
       "3305           8  2017-07-13 19:22:15.000000  2017-07-13 18:22:05.000000   \n",
       "3150           9  2017-07-13 00:34:03.000000  2017-07-12 23:33:54.000000   \n",
       "126            3  2017-07-15 16:02:04.000000  2017-07-15 15:01:56.000000   \n",
       "...          ...                         ...                         ...   \n",
       "1793           7  2017-07-03 15:05:14.000000  2017-07-03 14:04:07.000000   \n",
       "4163           7  2017-07-21 11:24:08.000000  2017-07-21 10:24:01.000000   \n",
       "3833           2  2017-07-05 18:45:42.000000  2017-07-05 17:45:37.000000   \n",
       "3620           7  2017-07-23 18:39:10.000000  2017-07-23 17:39:04.000000   \n",
       "777            2  2017-07-06 19:42:39.000000  2017-07-06 18:42:34.000000   \n",
       "\n",
       "      loanamount  totaldue  termdays referredby good_bad_flag  \n",
       "435      10000.0   11500.0        15        NaN           Bad  \n",
       "2695     30000.0   39000.0        60        NaN          Good  \n",
       "3305     20000.0   24500.0        30        NaN          Good  \n",
       "3150     30000.0   39000.0        60        NaN          Good  \n",
       "126      10000.0   11500.0        15        NaN          Good  \n",
       "...          ...       ...       ...        ...           ...  \n",
       "1793     30000.0   39000.0        60        NaN          Good  \n",
       "4163     30000.0   34500.0        30        NaN          Good  \n",
       "3833     20000.0   24500.0        30        NaN          Good  \n",
       "3620     30000.0   34500.0        30        NaN          Good  \n",
       "777      10000.0   13000.0        30        NaN          Good  \n",
       "\n",
       "[4360 rows x 18 columns]"
      ]
     },
     "execution_count": 6,
     "metadata": {},
     "output_type": "execute_result"
    }
   ],
   "source": [
    "# drop duplicate customerid values\n",
    "\n",
    "df.sort_values(\"customerid\", inplace = True)\n",
    " \n",
    "# dropping ALL duplicate values\n",
    "df.drop_duplicates(subset =\"customerid\",\n",
    "                     keep = False, inplace = True)\n",
    " \n",
    "# displaying data\n",
    "df"
   ]
  },
  {
   "cell_type": "code",
   "execution_count": 7,
   "id": "ed2adb25",
   "metadata": {},
   "outputs": [
    {
     "data": {
      "text/plain": [
       "customerid                       0\n",
       "birthdate                     1099\n",
       "bank_account_type             1099\n",
       "longitude_gps                 1099\n",
       "latitude_gps                  1099\n",
       "bank_name_clients             1099\n",
       "bank_branch_clients           4327\n",
       "employment_status_clients     1592\n",
       "level_of_education_clients    3917\n",
       "systemloanid                     0\n",
       "loannumber                       0\n",
       "approveddate                     0\n",
       "creationdate                     0\n",
       "loanamount                       0\n",
       "totaldue                         0\n",
       "termdays                         0\n",
       "referredby                    3775\n",
       "good_bad_flag                    0\n",
       "dtype: int64"
      ]
     },
     "execution_count": 7,
     "metadata": {},
     "output_type": "execute_result"
    }
   ],
   "source": [
    "#check for null values\n",
    "\n",
    "df.isnull().sum()"
   ]
  },
  {
   "cell_type": "code",
   "execution_count": 8,
   "id": "76f947c4",
   "metadata": {},
   "outputs": [],
   "source": [
    "#fill the missing categorical values with the mode\n",
    "\n",
    "df['bank_account_type'] = df['bank_account_type'].fillna(df['bank_account_type'].mode()[0])\n",
    "df['bank_name_clients'] = df['bank_name_clients'].fillna(df['bank_name_clients'].mode()[0])\n",
    "df['bank_branch_clients'] = df['bank_branch_clients'].fillna(df['bank_branch_clients'].mode()[0])\n",
    "df['employment_status_clients'] = df[\"employment_status_clients\"].fillna(df['employment_status_clients'].mode()[0])\n",
    "df['level_of_education_clients'] = df[\"level_of_education_clients\"].fillna(df['level_of_education_clients'].mode()[0])\n",
    "df['birthdate'] = df[\"birthdate\"].fillna(df['birthdate'].mode()[0])"
   ]
  },
  {
   "cell_type": "code",
   "execution_count": 9,
   "id": "cd60d3eb",
   "metadata": {},
   "outputs": [],
   "source": [
    "#fill the missing numerical values with the mean\n",
    "\n",
    "df['longitude_gps'] = df['longitude_gps'].fillna(df['longitude_gps'].mean())\n",
    "df['latitude_gps'] = df['latitude_gps'].fillna(df['latitude_gps'].mean())"
   ]
  },
  {
   "cell_type": "code",
   "execution_count": 10,
   "id": "db0fac0e",
   "metadata": {},
   "outputs": [
    {
     "data": {
      "text/plain": [
       "customerid                       0\n",
       "birthdate                        0\n",
       "bank_account_type                0\n",
       "longitude_gps                    0\n",
       "latitude_gps                     0\n",
       "bank_name_clients                0\n",
       "bank_branch_clients              0\n",
       "employment_status_clients        0\n",
       "level_of_education_clients       0\n",
       "systemloanid                     0\n",
       "loannumber                       0\n",
       "approveddate                     0\n",
       "creationdate                     0\n",
       "loanamount                       0\n",
       "totaldue                         0\n",
       "termdays                         0\n",
       "referredby                    3775\n",
       "good_bad_flag                    0\n",
       "dtype: int64"
      ]
     },
     "execution_count": 10,
     "metadata": {},
     "output_type": "execute_result"
    }
   ],
   "source": [
    "# check again for empty columns\n",
    "\n",
    "df.isnull().sum()"
   ]
  },
  {
   "cell_type": "markdown",
   "id": "8a9505a9",
   "metadata": {},
   "source": [
    "# CREATION OF NEW ATTRIBUTE"
   ]
  },
  {
   "cell_type": "code",
   "execution_count": 11,
   "id": "1c756d78",
   "metadata": {},
   "outputs": [],
   "source": [
    "# creation of new birthdate with removal of time stamp\n",
    "\n",
    "df['birthdate'] = pd.to_datetime(df['birthdate'])\n",
    "df['new_birthdate'] = df['birthdate'].dt.date"
   ]
  },
  {
   "cell_type": "code",
   "execution_count": 12,
   "id": "9ff78aa6",
   "metadata": {},
   "outputs": [],
   "source": [
    "# Creating dataframe\n",
    "df['Age'] = pd.to_datetime(df.new_birthdate)\n",
    "    \n",
    "# This function converts given date to age\n",
    "def age(born):\n",
    "    born = datetime.strptime(str(born), '%Y-%m-%d %H:%M:%S').date()\n",
    "    today = date.today()\n",
    "    return today.year - born.year - ((today.month, \n",
    "                                      today.day) < (born.month, \n",
    "                                                    born.day))\n",
    "  \n",
    "df['Age'] = df['Age'].apply(age)"
   ]
  },
  {
   "cell_type": "code",
   "execution_count": 13,
   "id": "77b81e12",
   "metadata": {},
   "outputs": [
    {
     "data": {
      "text/plain": [
       "435     32\n",
       "2695    42\n",
       "3305    43\n",
       "3150    43\n",
       "126     40\n",
       "        ..\n",
       "1793    42\n",
       "4163    35\n",
       "3833    40\n",
       "3620    33\n",
       "777     32\n",
       "Name: Age, Length: 4360, dtype: int64"
      ]
     },
     "execution_count": 13,
     "metadata": {},
     "output_type": "execute_result"
    }
   ],
   "source": [
    "# view the new Age column\n",
    "\n",
    "df['Age']"
   ]
  },
  {
   "cell_type": "code",
   "execution_count": 14,
   "id": "864818c3",
   "metadata": {},
   "outputs": [
    {
     "data": {
      "text/html": [
       "<div>\n",
       "<style scoped>\n",
       "    .dataframe tbody tr th:only-of-type {\n",
       "        vertical-align: middle;\n",
       "    }\n",
       "\n",
       "    .dataframe tbody tr th {\n",
       "        vertical-align: top;\n",
       "    }\n",
       "\n",
       "    .dataframe thead th {\n",
       "        text-align: right;\n",
       "    }\n",
       "</style>\n",
       "<table border=\"1\" class=\"dataframe\">\n",
       "  <thead>\n",
       "    <tr style=\"text-align: right;\">\n",
       "      <th></th>\n",
       "      <th>customerid</th>\n",
       "      <th>birthdate</th>\n",
       "      <th>bank_account_type</th>\n",
       "      <th>longitude_gps</th>\n",
       "      <th>latitude_gps</th>\n",
       "      <th>bank_name_clients</th>\n",
       "      <th>bank_branch_clients</th>\n",
       "      <th>employment_status_clients</th>\n",
       "      <th>level_of_education_clients</th>\n",
       "      <th>systemloanid</th>\n",
       "      <th>loannumber</th>\n",
       "      <th>approveddate</th>\n",
       "      <th>creationdate</th>\n",
       "      <th>loanamount</th>\n",
       "      <th>totaldue</th>\n",
       "      <th>termdays</th>\n",
       "      <th>referredby</th>\n",
       "      <th>good_bad_flag</th>\n",
       "      <th>new_birthdate</th>\n",
       "      <th>Age</th>\n",
       "    </tr>\n",
       "  </thead>\n",
       "  <tbody>\n",
       "    <tr>\n",
       "      <th>435</th>\n",
       "      <td>8a1088a0484472eb01484669e3ce4e0b</td>\n",
       "      <td>1989-11-09</td>\n",
       "      <td>Savings</td>\n",
       "      <td>3.351667</td>\n",
       "      <td>6.657019</td>\n",
       "      <td>GT Bank</td>\n",
       "      <td>OJUELEGBA</td>\n",
       "      <td>Permanent</td>\n",
       "      <td>Primary</td>\n",
       "      <td>301999397</td>\n",
       "      <td>2</td>\n",
       "      <td>2017-07-27 19:44:08.000000</td>\n",
       "      <td>2017-07-27 18:44:00.000000</td>\n",
       "      <td>10000.0</td>\n",
       "      <td>11500.0</td>\n",
       "      <td>15</td>\n",
       "      <td>NaN</td>\n",
       "      <td>Bad</td>\n",
       "      <td>1989-11-09</td>\n",
       "      <td>32</td>\n",
       "    </tr>\n",
       "    <tr>\n",
       "      <th>2695</th>\n",
       "      <td>8a1a1e7e4f707f8b014f797718316cad</td>\n",
       "      <td>1979-10-18</td>\n",
       "      <td>Other</td>\n",
       "      <td>3.395230</td>\n",
       "      <td>6.592192</td>\n",
       "      <td>Standard Chartered</td>\n",
       "      <td>OGBA</td>\n",
       "      <td>Permanent</td>\n",
       "      <td>Graduate</td>\n",
       "      <td>301997672</td>\n",
       "      <td>5</td>\n",
       "      <td>2017-07-26 20:01:54.000000</td>\n",
       "      <td>2017-07-26 19:01:46.000000</td>\n",
       "      <td>30000.0</td>\n",
       "      <td>39000.0</td>\n",
       "      <td>60</td>\n",
       "      <td>NaN</td>\n",
       "      <td>Good</td>\n",
       "      <td>1979-10-18</td>\n",
       "      <td>42</td>\n",
       "    </tr>\n",
       "    <tr>\n",
       "      <th>3305</th>\n",
       "      <td>8a1a32fc49b632520149c3b8fdf85139</td>\n",
       "      <td>1979-01-29</td>\n",
       "      <td>Savings</td>\n",
       "      <td>3.306388</td>\n",
       "      <td>6.651843</td>\n",
       "      <td>GT Bank</td>\n",
       "      <td>MUSHIN BRANCH</td>\n",
       "      <td>Permanent</td>\n",
       "      <td>Graduate</td>\n",
       "      <td>301976551</td>\n",
       "      <td>8</td>\n",
       "      <td>2017-07-13 19:22:15.000000</td>\n",
       "      <td>2017-07-13 18:22:05.000000</td>\n",
       "      <td>20000.0</td>\n",
       "      <td>24500.0</td>\n",
       "      <td>30</td>\n",
       "      <td>NaN</td>\n",
       "      <td>Good</td>\n",
       "      <td>1979-01-29</td>\n",
       "      <td>43</td>\n",
       "    </tr>\n",
       "    <tr>\n",
       "      <th>3150</th>\n",
       "      <td>8a1eb5ba49a682300149c3c068b806c7</td>\n",
       "      <td>1978-11-25</td>\n",
       "      <td>Savings</td>\n",
       "      <td>3.426698</td>\n",
       "      <td>6.423048</td>\n",
       "      <td>First Bank</td>\n",
       "      <td>17, SANUSI FAFUNWA STREET, VICTORIA ISLAND, LAGOS</td>\n",
       "      <td>Permanent</td>\n",
       "      <td>Secondary</td>\n",
       "      <td>301975382</td>\n",
       "      <td>9</td>\n",
       "      <td>2017-07-13 00:34:03.000000</td>\n",
       "      <td>2017-07-12 23:33:54.000000</td>\n",
       "      <td>30000.0</td>\n",
       "      <td>39000.0</td>\n",
       "      <td>60</td>\n",
       "      <td>NaN</td>\n",
       "      <td>Good</td>\n",
       "      <td>1978-11-25</td>\n",
       "      <td>43</td>\n",
       "    </tr>\n",
       "    <tr>\n",
       "      <th>126</th>\n",
       "      <td>8a1edbf14734127f0147356fdb1b1eb2</td>\n",
       "      <td>1982-08-08</td>\n",
       "      <td>Savings</td>\n",
       "      <td>4.527321</td>\n",
       "      <td>7.287956</td>\n",
       "      <td>GT Bank</td>\n",
       "      <td>OGBA</td>\n",
       "      <td>Permanent</td>\n",
       "      <td>Graduate</td>\n",
       "      <td>301979352</td>\n",
       "      <td>3</td>\n",
       "      <td>2017-07-15 16:02:04.000000</td>\n",
       "      <td>2017-07-15 15:01:56.000000</td>\n",
       "      <td>10000.0</td>\n",
       "      <td>11500.0</td>\n",
       "      <td>15</td>\n",
       "      <td>NaN</td>\n",
       "      <td>Good</td>\n",
       "      <td>1982-08-08</td>\n",
       "      <td>40</td>\n",
       "    </tr>\n",
       "  </tbody>\n",
       "</table>\n",
       "</div>"
      ],
      "text/plain": [
       "                            customerid  birthdate bank_account_type  \\\n",
       "435   8a1088a0484472eb01484669e3ce4e0b 1989-11-09           Savings   \n",
       "2695  8a1a1e7e4f707f8b014f797718316cad 1979-10-18             Other   \n",
       "3305  8a1a32fc49b632520149c3b8fdf85139 1979-01-29           Savings   \n",
       "3150  8a1eb5ba49a682300149c3c068b806c7 1978-11-25           Savings   \n",
       "126   8a1edbf14734127f0147356fdb1b1eb2 1982-08-08           Savings   \n",
       "\n",
       "      longitude_gps  latitude_gps   bank_name_clients  \\\n",
       "435        3.351667      6.657019             GT Bank   \n",
       "2695       3.395230      6.592192  Standard Chartered   \n",
       "3305       3.306388      6.651843             GT Bank   \n",
       "3150       3.426698      6.423048          First Bank   \n",
       "126        4.527321      7.287956             GT Bank   \n",
       "\n",
       "                                    bank_branch_clients  \\\n",
       "435                                           OJUELEGBA   \n",
       "2695                                               OGBA   \n",
       "3305                                      MUSHIN BRANCH   \n",
       "3150  17, SANUSI FAFUNWA STREET, VICTORIA ISLAND, LAGOS   \n",
       "126                                                OGBA   \n",
       "\n",
       "     employment_status_clients level_of_education_clients  systemloanid  \\\n",
       "435                  Permanent                    Primary     301999397   \n",
       "2695                 Permanent                   Graduate     301997672   \n",
       "3305                 Permanent                   Graduate     301976551   \n",
       "3150                 Permanent                  Secondary     301975382   \n",
       "126                  Permanent                   Graduate     301979352   \n",
       "\n",
       "      loannumber                approveddate                creationdate  \\\n",
       "435            2  2017-07-27 19:44:08.000000  2017-07-27 18:44:00.000000   \n",
       "2695           5  2017-07-26 20:01:54.000000  2017-07-26 19:01:46.000000   \n",
       "3305           8  2017-07-13 19:22:15.000000  2017-07-13 18:22:05.000000   \n",
       "3150           9  2017-07-13 00:34:03.000000  2017-07-12 23:33:54.000000   \n",
       "126            3  2017-07-15 16:02:04.000000  2017-07-15 15:01:56.000000   \n",
       "\n",
       "      loanamount  totaldue  termdays referredby good_bad_flag new_birthdate  \\\n",
       "435      10000.0   11500.0        15        NaN           Bad    1989-11-09   \n",
       "2695     30000.0   39000.0        60        NaN          Good    1979-10-18   \n",
       "3305     20000.0   24500.0        30        NaN          Good    1979-01-29   \n",
       "3150     30000.0   39000.0        60        NaN          Good    1978-11-25   \n",
       "126      10000.0   11500.0        15        NaN          Good    1982-08-08   \n",
       "\n",
       "      Age  \n",
       "435    32  \n",
       "2695   42  \n",
       "3305   43  \n",
       "3150   43  \n",
       "126    40  "
      ]
     },
     "execution_count": 14,
     "metadata": {},
     "output_type": "execute_result"
    }
   ],
   "source": [
    "# view the first n rows of the dataframe\n",
    "\n",
    "df.head()"
   ]
  },
  {
   "cell_type": "markdown",
   "id": "331e38e2",
   "metadata": {},
   "source": [
    "# EXPLORATORY DATA ANALYSIS"
   ]
  },
  {
   "cell_type": "code",
   "execution_count": 15,
   "id": "28e412f1",
   "metadata": {},
   "outputs": [
    {
     "data": {
      "image/png": "[encoded data removed]",
      "text/plain": [
       "<Figure size 720x576 with 1 Axes>"
      ]
     },
     "metadata": {
      "needs_background": "light"
     },
     "output_type": "display_data"
    }
   ],
   "source": [
    "# Checking for outliers\n",
    "\n",
    "plt.figure(figsize= (10, 8))\n",
    "outliers = sns.boxplot(data = df, orient = 'h')\n",
    "outliers.set_title('Box Plot on Loan Dataset', fontdict = {'fontsize': 15,'fontweight': 'bold'})\n",
    "outliers.set_ylabel('Features')\n",
    "plt.show()"
   ]
  },
  {
   "cell_type": "code",
   "execution_count": 16,
   "id": "57b1422b",
   "metadata": {},
   "outputs": [
    {
     "name": "stderr",
     "output_type": "stream",
     "text": [
      "C:\\Users\\orjic\\anaconda3\\lib\\site-packages\\seaborn\\_decorators.py:36: FutureWarning: Pass the following variable as a keyword arg: x. From version 0.12, the only valid positional argument will be `data`, and passing other arguments without an explicit keyword will result in an error or misinterpretation.\n",
      "  warnings.warn(\n"
     ]
    },
    {
     "data": {
      "text/plain": [
       "[Text(0, 0, 'Savings'), Text(1, 0, 'Other'), Text(2, 0, 'Current')]"
      ]
     },
     "execution_count": 16,
     "metadata": {},
     "output_type": "execute_result"
    },
    {
     "data": {
      "image/png": "[encoded data removed]",
      "text/plain": [
       "<Figure size 432x288 with 1 Axes>"
      ]
     },
     "metadata": {
      "needs_background": "light"
     },
     "output_type": "display_data"
    }
   ],
   "source": [
    "#categorical attribute visualization\n",
    "\n",
    "bank_account_type = sns.countplot(df['bank_account_type'])\n",
    "\n",
    "# invert the x label for better representation and plot the attribute\n",
    "bank_account_type.set_xticklabels(bank_account_type.get_xticklabels(),rotation = 40, horizontalalignment = 'right', fontweight = 'light',\n",
    "                          fontsize='x-large')"
   ]
  },
  {
   "cell_type": "code",
   "execution_count": 17,
   "id": "4157c4b2",
   "metadata": {},
   "outputs": [
    {
     "name": "stderr",
     "output_type": "stream",
     "text": [
      "C:\\Users\\orjic\\anaconda3\\lib\\site-packages\\seaborn\\_decorators.py:36: FutureWarning: Pass the following variable as a keyword arg: x. From version 0.12, the only valid positional argument will be `data`, and passing other arguments without an explicit keyword will result in an error or misinterpretation.\n",
      "  warnings.warn(\n"
     ]
    },
    {
     "data": {
      "text/plain": [
       "[Text(0, 0, 'GT Bank'),\n",
       " Text(1, 0, 'Standard Chartered'),\n",
       " Text(2, 0, 'First Bank'),\n",
       " Text(3, 0, 'Access Bank'),\n",
       " Text(4, 0, 'Diamond Bank'),\n",
       " Text(5, 0, 'EcoBank'),\n",
       " Text(6, 0, 'Stanbic IBTC'),\n",
       " Text(7, 0, 'Sterling Bank'),\n",
       " Text(8, 0, 'Skye Bank'),\n",
       " Text(9, 0, 'UBA'),\n",
       " Text(10, 0, 'Zenith Bank'),\n",
       " Text(11, 0, 'FCMB'),\n",
       " Text(12, 0, 'Fidelity Bank'),\n",
       " Text(13, 0, 'Wema Bank'),\n",
       " Text(14, 0, 'Union Bank'),\n",
       " Text(15, 0, 'Keystone Bank'),\n",
       " Text(16, 0, 'Heritage Bank'),\n",
       " Text(17, 0, 'Unity Bank')]"
      ]
     },
     "execution_count": 17,
     "metadata": {},
     "output_type": "execute_result"
    },
    {
     "data": {
      "image/png": "[encoded data removed]",
      "text/plain": [
       "<Figure size 432x288 with 1 Axes>"
      ]
     },
     "metadata": {
      "needs_background": "light"
     },
     "output_type": "display_data"
    }
   ],
   "source": [
    "#categorical attribute visualization\n",
    "\n",
    "bank_name = sns.countplot(df['bank_name_clients'])\n",
    "\n",
    "# invert the x label for better representation\n",
    "\n",
    "bank_name.set_xticklabels(bank_name.get_xticklabels(),rotation = 40, horizontalalignment = 'right', fontweight = 'light',\n",
    "                          fontsize='x-large')"
   ]
  },
  {
   "cell_type": "code",
   "execution_count": 18,
   "id": "6accad97",
   "metadata": {},
   "outputs": [
    {
     "name": "stderr",
     "output_type": "stream",
     "text": [
      "C:\\Users\\orjic\\anaconda3\\lib\\site-packages\\seaborn\\_decorators.py:36: FutureWarning: Pass the following variable as a keyword arg: x. From version 0.12, the only valid positional argument will be `data`, and passing other arguments without an explicit keyword will result in an error or misinterpretation.\n",
      "  warnings.warn(\n"
     ]
    },
    {
     "data": {
      "text/plain": [
       "[Text(0, 0, 'Permanent'),\n",
       " Text(1, 0, 'Self-Employed'),\n",
       " Text(2, 0, 'Retired'),\n",
       " Text(3, 0, 'Student'),\n",
       " Text(4, 0, 'Unemployed'),\n",
       " Text(5, 0, 'Contract')]"
      ]
     },
     "execution_count": 18,
     "metadata": {},
     "output_type": "execute_result"
    },
    {
     "data": {
      "image/png": "[encoded data removed]",
      "text/plain": [
       "<Figure size 432x288 with 1 Axes>"
      ]
     },
     "metadata": {
      "needs_background": "light"
     },
     "output_type": "display_data"
    }
   ],
   "source": [
    "#categorical attribute visualization\n",
    "\n",
    "employment_status = sns.countplot(df['employment_status_clients'])\n",
    "\n",
    "# invert the x label for better representation and plot the attribute\n",
    "employment_status.set_xticklabels(employment_status.get_xticklabels(),rotation = 40, horizontalalignment = 'right', fontweight = 'light',\n",
    "                          fontsize='x-large')"
   ]
  },
  {
   "cell_type": "code",
   "execution_count": 19,
   "id": "0d89286c",
   "metadata": {},
   "outputs": [
    {
     "name": "stderr",
     "output_type": "stream",
     "text": [
      "C:\\Users\\orjic\\anaconda3\\lib\\site-packages\\seaborn\\_decorators.py:36: FutureWarning: Pass the following variable as a keyword arg: x. From version 0.12, the only valid positional argument will be `data`, and passing other arguments without an explicit keyword will result in an error or misinterpretation.\n",
      "  warnings.warn(\n"
     ]
    },
    {
     "data": {
      "text/plain": [
       "[Text(0, 0, 'Primary'),\n",
       " Text(1, 0, 'Graduate'),\n",
       " Text(2, 0, 'Secondary'),\n",
       " Text(3, 0, 'Post-Graduate')]"
      ]
     },
     "execution_count": 19,
     "metadata": {},
     "output_type": "execute_result"
    },
    {
     "data": {
      "image/png": "[encoded data removed]",
      "text/plain": [
       "<Figure size 432x288 with 1 Axes>"
      ]
     },
     "metadata": {
      "needs_background": "light"
     },
     "output_type": "display_data"
    }
   ],
   "source": [
    "#categorical attribute visualization\n",
    "\n",
    "level_of_education = sns.countplot(df['level_of_education_clients'])\n",
    "\n",
    "# invert the x label for better representation and plot the attribute\n",
    "level_of_education.set_xticklabels(level_of_education.get_xticklabels(),rotation = 40, horizontalalignment = 'right', fontweight = 'light',\n",
    "                          fontsize='x-large')"
   ]
  },
  {
   "cell_type": "code",
   "execution_count": 20,
   "id": "876f9ce7",
   "metadata": {},
   "outputs": [
    {
     "name": "stderr",
     "output_type": "stream",
     "text": [
      "C:\\Users\\orjic\\anaconda3\\lib\\site-packages\\seaborn\\_decorators.py:36: FutureWarning: Pass the following variable as a keyword arg: x. From version 0.12, the only valid positional argument will be `data`, and passing other arguments without an explicit keyword will result in an error or misinterpretation.\n",
      "  warnings.warn(\n"
     ]
    },
    {
     "data": {
      "text/plain": [
       "[Text(0, 0, 'Bad'), Text(1, 0, 'Good')]"
      ]
     },
     "execution_count": 20,
     "metadata": {},
     "output_type": "execute_result"
    },
    {
     "data": {
      "image/png": "[encoded data removed]",
      "text/plain": [
       "<Figure size 432x288 with 1 Axes>"
      ]
     },
     "metadata": {
      "needs_background": "light"
     },
     "output_type": "display_data"
    }
   ],
   "source": [
    "#categorical attribute visualization\n",
    "\n",
    "good_bad_flag = sns.countplot(df['good_bad_flag'])\n",
    "\n",
    "# invert the x label for better representation and plot the attribute\n",
    "good_bad_flag.set_xticklabels(good_bad_flag.get_xticklabels(),rotation = 40, horizontalalignment = 'right', fontweight = 'light',\n",
    "                          fontsize='x-large')"
   ]
  },
  {
   "cell_type": "code",
   "execution_count": 21,
   "id": "844de9f3",
   "metadata": {},
   "outputs": [
    {
     "name": "stderr",
     "output_type": "stream",
     "text": [
      "C:\\Users\\orjic\\anaconda3\\lib\\site-packages\\seaborn\\distributions.py:2557: FutureWarning: `distplot` is a deprecated function and will be removed in a future version. Please adapt your code to use either `displot` (a figure-level function with similar flexibility) or `histplot` (an axes-level function for histograms).\n",
      "  warnings.warn(msg, FutureWarning)\n"
     ]
    },
    {
     "data": {
      "text/plain": [
       "<AxesSubplot:xlabel='Age', ylabel='Density'>"
      ]
     },
     "execution_count": 21,
     "metadata": {},
     "output_type": "execute_result"
    },
    {
     "data": {
      "image/png": "[encoded data removed]",
      "text/plain": [
       "<Figure size 432x288 with 1 Axes>"
      ]
     },
     "metadata": {
      "needs_background": "light"
     },
     "output_type": "display_data"
    }
   ],
   "source": [
    "#numerical attribute visualization\n",
    "\n",
    "sns.distplot(df['Age'])"
   ]
  },
  {
   "cell_type": "code",
   "execution_count": 22,
   "id": "6ac3add1",
   "metadata": {},
   "outputs": [
    {
     "name": "stderr",
     "output_type": "stream",
     "text": [
      "C:\\Users\\orjic\\anaconda3\\lib\\site-packages\\seaborn\\distributions.py:2557: FutureWarning: `distplot` is a deprecated function and will be removed in a future version. Please adapt your code to use either `displot` (a figure-level function with similar flexibility) or `histplot` (an axes-level function for histograms).\n",
      "  warnings.warn(msg, FutureWarning)\n"
     ]
    },
    {
     "data": {
      "text/plain": [
       "<AxesSubplot:xlabel='loannumber', ylabel='Density'>"
      ]
     },
     "execution_count": 22,
     "metadata": {},
     "output_type": "execute_result"
    },
    {
     "data": {
      "image/png": "[encoded data removed]",
      "text/plain": [
       "<Figure size 432x288 with 1 Axes>"
      ]
     },
     "metadata": {
      "needs_background": "light"
     },
     "output_type": "display_data"
    }
   ],
   "source": [
    "#numerical attribute visualization\n",
    "\n",
    "sns.distplot(df['loannumber'])"
   ]
  },
  {
   "cell_type": "code",
   "execution_count": 23,
   "id": "cf00c35f",
   "metadata": {},
   "outputs": [
    {
     "name": "stderr",
     "output_type": "stream",
     "text": [
      "C:\\Users\\orjic\\anaconda3\\lib\\site-packages\\seaborn\\distributions.py:2557: FutureWarning: `distplot` is a deprecated function and will be removed in a future version. Please adapt your code to use either `displot` (a figure-level function with similar flexibility) or `histplot` (an axes-level function for histograms).\n",
      "  warnings.warn(msg, FutureWarning)\n"
     ]
    },
    {
     "data": {
      "text/plain": [
       "<AxesSubplot:xlabel='loanamount', ylabel='Density'>"
      ]
     },
     "execution_count": 23,
     "metadata": {},
     "output_type": "execute_result"
    },
    {
     "data": {
      "image/png": "[encoded data removed]",
      "text/plain": [
       "<Figure size 432x288 with 1 Axes>"
      ]
     },
     "metadata": {
      "needs_background": "light"
     },
     "output_type": "display_data"
    }
   ],
   "source": [
    "#numerical attribute visualization\n",
    "\n",
    "sns.distplot(df['loanamount'])"
   ]
  },
  {
   "cell_type": "code",
   "execution_count": 24,
   "id": "2649485a",
   "metadata": {},
   "outputs": [
    {
     "name": "stderr",
     "output_type": "stream",
     "text": [
      "C:\\Users\\orjic\\anaconda3\\lib\\site-packages\\seaborn\\distributions.py:2557: FutureWarning: `distplot` is a deprecated function and will be removed in a future version. Please adapt your code to use either `displot` (a figure-level function with similar flexibility) or `histplot` (an axes-level function for histograms).\n",
      "  warnings.warn(msg, FutureWarning)\n"
     ]
    },
    {
     "data": {
      "text/plain": [
       "<AxesSubplot:xlabel='totaldue', ylabel='Density'>"
      ]
     },
     "execution_count": 24,
     "metadata": {},
     "output_type": "execute_result"
    },
    {
     "data": {
      "image/png": "[encoded data removed]",
      "text/plain": [
       "<Figure size 432x288 with 1 Axes>"
      ]
     },
     "metadata": {
      "needs_background": "light"
     },
     "output_type": "display_data"
    }
   ],
   "source": [
    "#numerical attribute visualization\n",
    "\n",
    "sns.distplot(df['totaldue'])"
   ]
  },
  {
   "cell_type": "code",
   "execution_count": 25,
   "id": "1ffcd7b0",
   "metadata": {},
   "outputs": [
    {
     "name": "stderr",
     "output_type": "stream",
     "text": [
      "C:\\Users\\orjic\\anaconda3\\lib\\site-packages\\seaborn\\distributions.py:2557: FutureWarning: `distplot` is a deprecated function and will be removed in a future version. Please adapt your code to use either `displot` (a figure-level function with similar flexibility) or `histplot` (an axes-level function for histograms).\n",
      "  warnings.warn(msg, FutureWarning)\n"
     ]
    },
    {
     "data": {
      "text/plain": [
       "<AxesSubplot:xlabel='termdays', ylabel='Density'>"
      ]
     },
     "execution_count": 25,
     "metadata": {},
     "output_type": "execute_result"
    },
    {
     "data": {
      "image/png": "[encoded data removed]",
      "text/plain": [
       "<Figure size 432x288 with 1 Axes>"
      ]
     },
     "metadata": {
      "needs_background": "light"
     },
     "output_type": "display_data"
    }
   ],
   "source": [
    "#numerical attribute visualization\n",
    "\n",
    "sns.distplot(df['termdays'])"
   ]
  },
  {
   "cell_type": "markdown",
   "id": "94a1d9bc",
   "metadata": {},
   "source": [
    "# LOG TRANSFORMATION"
   ]
  },
  {
   "cell_type": "code",
   "execution_count": 26,
   "id": "a7153269",
   "metadata": {},
   "outputs": [
    {
     "name": "stderr",
     "output_type": "stream",
     "text": [
      "C:\\Users\\orjic\\anaconda3\\lib\\site-packages\\seaborn\\distributions.py:2557: FutureWarning: `distplot` is a deprecated function and will be removed in a future version. Please adapt your code to use either `displot` (a figure-level function with similar flexibility) or `histplot` (an axes-level function for histograms).\n",
      "  warnings.warn(msg, FutureWarning)\n"
     ]
    },
    {
     "data": {
      "text/plain": [
       "<AxesSubplot:xlabel='Age_log', ylabel='Density'>"
      ]
     },
     "execution_count": 26,
     "metadata": {},
     "output_type": "execute_result"
    },
    {
     "data": {
      "image/png": "[encoded data removed]",
      "text/plain": [
       "<Figure size 432x288 with 1 Axes>"
      ]
     },
     "metadata": {
      "needs_background": "light"
     },
     "output_type": "display_data"
    }
   ],
   "source": [
    "# create more evenly distributed numerical variables using log transformation\n",
    "\n",
    "df['Age_log'] = np.log(df['Age'])\n",
    "sns.distplot(df['Age_log'])"
   ]
  },
  {
   "cell_type": "code",
   "execution_count": 27,
   "id": "bd629339",
   "metadata": {},
   "outputs": [
    {
     "name": "stderr",
     "output_type": "stream",
     "text": [
      "C:\\Users\\orjic\\anaconda3\\lib\\site-packages\\seaborn\\distributions.py:2557: FutureWarning: `distplot` is a deprecated function and will be removed in a future version. Please adapt your code to use either `displot` (a figure-level function with similar flexibility) or `histplot` (an axes-level function for histograms).\n",
      "  warnings.warn(msg, FutureWarning)\n"
     ]
    },
    {
     "data": {
      "text/plain": [
       "<AxesSubplot:xlabel='loannumber_log', ylabel='Density'>"
      ]
     },
     "execution_count": 27,
     "metadata": {},
     "output_type": "execute_result"
    },
    {
     "data": {
      "image/png": "[encoded data removed]",
      "text/plain": [
       "<Figure size 432x288 with 1 Axes>"
      ]
     },
     "metadata": {
      "needs_background": "light"
     },
     "output_type": "display_data"
    }
   ],
   "source": [
    "# create more evenly distributed numerical variables using log transformation\n",
    "\n",
    "df['loannumber_log'] = np.log(df['loannumber'])\n",
    "sns.distplot(df['loannumber_log'])"
   ]
  },
  {
   "cell_type": "code",
   "execution_count": 28,
   "id": "401e50c4",
   "metadata": {},
   "outputs": [
    {
     "name": "stderr",
     "output_type": "stream",
     "text": [
      "C:\\Users\\orjic\\anaconda3\\lib\\site-packages\\seaborn\\distributions.py:2557: FutureWarning: `distplot` is a deprecated function and will be removed in a future version. Please adapt your code to use either `displot` (a figure-level function with similar flexibility) or `histplot` (an axes-level function for histograms).\n",
      "  warnings.warn(msg, FutureWarning)\n"
     ]
    },
    {
     "data": {
      "text/plain": [
       "<AxesSubplot:xlabel='loanamount_log', ylabel='Density'>"
      ]
     },
     "execution_count": 28,
     "metadata": {},
     "output_type": "execute_result"
    },
    {
     "data": {
      "image/png": "[encoded data removed]",
      "text/plain": [
       "<Figure size 432x288 with 1 Axes>"
      ]
     },
     "metadata": {
      "needs_background": "light"
     },
     "output_type": "display_data"
    }
   ],
   "source": [
    "# create more evenly distributed numerical variables using log transformation\n",
    "\n",
    "df['loanamount_log'] = np.log(df['loanamount'])\n",
    "sns.distplot(df['loanamount_log'])"
   ]
  },
  {
   "cell_type": "code",
   "execution_count": 29,
   "id": "b85049b3",
   "metadata": {},
   "outputs": [
    {
     "name": "stderr",
     "output_type": "stream",
     "text": [
      "C:\\Users\\orjic\\anaconda3\\lib\\site-packages\\seaborn\\distributions.py:2557: FutureWarning: `distplot` is a deprecated function and will be removed in a future version. Please adapt your code to use either `displot` (a figure-level function with similar flexibility) or `histplot` (an axes-level function for histograms).\n",
      "  warnings.warn(msg, FutureWarning)\n"
     ]
    },
    {
     "data": {
      "text/plain": [
       "<AxesSubplot:xlabel='totaldue_log', ylabel='Density'>"
      ]
     },
     "execution_count": 29,
     "metadata": {},
     "output_type": "execute_result"
    },
    {
     "data": {
      "image/png": "[encoded data removed]",
      "text/plain": [
       "<Figure size 432x288 with 1 Axes>"
      ]
     },
     "metadata": {
      "needs_background": "light"
     },
     "output_type": "display_data"
    }
   ],
   "source": [
    "# create more evenly distributed numerical variables using log transformation\n",
    "\n",
    "df['totaldue_log'] = np.log(df['totaldue'])\n",
    "sns.distplot(df['totaldue_log'])"
   ]
  },
  {
   "cell_type": "code",
   "execution_count": 30,
   "id": "884cab29",
   "metadata": {},
   "outputs": [
    {
     "name": "stderr",
     "output_type": "stream",
     "text": [
      "C:\\Users\\orjic\\anaconda3\\lib\\site-packages\\seaborn\\distributions.py:2557: FutureWarning: `distplot` is a deprecated function and will be removed in a future version. Please adapt your code to use either `displot` (a figure-level function with similar flexibility) or `histplot` (an axes-level function for histograms).\n",
      "  warnings.warn(msg, FutureWarning)\n"
     ]
    },
    {
     "data": {
      "text/plain": [
       "<AxesSubplot:xlabel='termdays_log', ylabel='Density'>"
      ]
     },
     "execution_count": 30,
     "metadata": {},
     "output_type": "execute_result"
    },
    {
     "data": {
      "image/png": "[encoded data removed]",
      "text/plain": [
       "<Figure size 432x288 with 1 Axes>"
      ]
     },
     "metadata": {
      "needs_background": "light"
     },
     "output_type": "display_data"
    }
   ],
   "source": [
    "# create more evenly distributed numerical variables using log transformation\n",
    "\n",
    "df['termdays_log'] = np.log(df['termdays'])\n",
    "sns.distplot(df['termdays_log'])"
   ]
  },
  {
   "cell_type": "markdown",
   "id": "3629f356",
   "metadata": {},
   "source": [
    "# CORRELATION MATRIX"
   ]
  },
  {
   "cell_type": "code",
   "execution_count": 31,
   "id": "01805892",
   "metadata": {},
   "outputs": [
    {
     "data": {
      "text/plain": [
       "<AxesSubplot:>"
      ]
     },
     "execution_count": 31,
     "metadata": {},
     "output_type": "execute_result"
    },
    {
     "data": {
      "image/png": "[encoded data removed]",
      "text/plain": [
       "<Figure size 720x720 with 2 Axes>"
      ]
     },
     "metadata": {
      "needs_background": "light"
     },
     "output_type": "display_data"
    }
   ],
   "source": [
    "# check correlation for the numerical variables\n",
    "\n",
    "correlation = df.corr()\n",
    "plt.figure(figsize=(10,10))\n",
    "sns.heatmap(correlation, square = True, annot = True, cmap = 'BuPu')"
   ]
  },
  {
   "cell_type": "markdown",
   "id": "9d3ae675",
   "metadata": {},
   "source": [
    "# DROP MOST CORRELATED COLUMNS"
   ]
  },
  {
   "cell_type": "code",
   "execution_count": 32,
   "id": "236b3aa0",
   "metadata": {},
   "outputs": [],
   "source": [
    "# drop columns that are not needed\n",
    "\n",
    "mycol = ['customerid', 'birthdate', 'longitude_gps', 'latitude_gps','approveddate', 'creationdate', 'systemloanid','loannumber', 'loanamount', 'totaldue', 'termdays', 'referredby', 'new_birthdate', 'Age', 'approveddate', 'creationdate']\n",
    "df = df.drop(columns = mycol, axis = 1)"
   ]
  },
  {
   "cell_type": "code",
   "execution_count": 33,
   "id": "8b0684a9",
   "metadata": {},
   "outputs": [
    {
     "data": {
      "text/html": [
       "<div>\n",
       "<style scoped>\n",
       "    .dataframe tbody tr th:only-of-type {\n",
       "        vertical-align: middle;\n",
       "    }\n",
       "\n",
       "    .dataframe tbody tr th {\n",
       "        vertical-align: top;\n",
       "    }\n",
       "\n",
       "    .dataframe thead th {\n",
       "        text-align: right;\n",
       "    }\n",
       "</style>\n",
       "<table border=\"1\" class=\"dataframe\">\n",
       "  <thead>\n",
       "    <tr style=\"text-align: right;\">\n",
       "      <th></th>\n",
       "      <th>bank_account_type</th>\n",
       "      <th>bank_name_clients</th>\n",
       "      <th>bank_branch_clients</th>\n",
       "      <th>employment_status_clients</th>\n",
       "      <th>level_of_education_clients</th>\n",
       "      <th>good_bad_flag</th>\n",
       "      <th>Age_log</th>\n",
       "      <th>loannumber_log</th>\n",
       "      <th>loanamount_log</th>\n",
       "      <th>totaldue_log</th>\n",
       "      <th>termdays_log</th>\n",
       "    </tr>\n",
       "  </thead>\n",
       "  <tbody>\n",
       "    <tr>\n",
       "      <th>435</th>\n",
       "      <td>Savings</td>\n",
       "      <td>GT Bank</td>\n",
       "      <td>OJUELEGBA</td>\n",
       "      <td>Permanent</td>\n",
       "      <td>Primary</td>\n",
       "      <td>Bad</td>\n",
       "      <td>3.465736</td>\n",
       "      <td>0.693147</td>\n",
       "      <td>9.210340</td>\n",
       "      <td>9.350102</td>\n",
       "      <td>2.708050</td>\n",
       "    </tr>\n",
       "    <tr>\n",
       "      <th>2695</th>\n",
       "      <td>Other</td>\n",
       "      <td>Standard Chartered</td>\n",
       "      <td>OGBA</td>\n",
       "      <td>Permanent</td>\n",
       "      <td>Graduate</td>\n",
       "      <td>Good</td>\n",
       "      <td>3.737670</td>\n",
       "      <td>1.609438</td>\n",
       "      <td>10.308953</td>\n",
       "      <td>10.571317</td>\n",
       "      <td>4.094345</td>\n",
       "    </tr>\n",
       "    <tr>\n",
       "      <th>3305</th>\n",
       "      <td>Savings</td>\n",
       "      <td>GT Bank</td>\n",
       "      <td>MUSHIN BRANCH</td>\n",
       "      <td>Permanent</td>\n",
       "      <td>Graduate</td>\n",
       "      <td>Good</td>\n",
       "      <td>3.761200</td>\n",
       "      <td>2.079442</td>\n",
       "      <td>9.903488</td>\n",
       "      <td>10.106428</td>\n",
       "      <td>3.401197</td>\n",
       "    </tr>\n",
       "    <tr>\n",
       "      <th>3150</th>\n",
       "      <td>Savings</td>\n",
       "      <td>First Bank</td>\n",
       "      <td>17, SANUSI FAFUNWA STREET, VICTORIA ISLAND, LAGOS</td>\n",
       "      <td>Permanent</td>\n",
       "      <td>Secondary</td>\n",
       "      <td>Good</td>\n",
       "      <td>3.761200</td>\n",
       "      <td>2.197225</td>\n",
       "      <td>10.308953</td>\n",
       "      <td>10.571317</td>\n",
       "      <td>4.094345</td>\n",
       "    </tr>\n",
       "    <tr>\n",
       "      <th>126</th>\n",
       "      <td>Savings</td>\n",
       "      <td>GT Bank</td>\n",
       "      <td>OGBA</td>\n",
       "      <td>Permanent</td>\n",
       "      <td>Graduate</td>\n",
       "      <td>Good</td>\n",
       "      <td>3.688879</td>\n",
       "      <td>1.098612</td>\n",
       "      <td>9.210340</td>\n",
       "      <td>9.350102</td>\n",
       "      <td>2.708050</td>\n",
       "    </tr>\n",
       "  </tbody>\n",
       "</table>\n",
       "</div>"
      ],
      "text/plain": [
       "     bank_account_type   bank_name_clients  \\\n",
       "435            Savings             GT Bank   \n",
       "2695             Other  Standard Chartered   \n",
       "3305           Savings             GT Bank   \n",
       "3150           Savings          First Bank   \n",
       "126            Savings             GT Bank   \n",
       "\n",
       "                                    bank_branch_clients  \\\n",
       "435                                           OJUELEGBA   \n",
       "2695                                               OGBA   \n",
       "3305                                      MUSHIN BRANCH   \n",
       "3150  17, SANUSI FAFUNWA STREET, VICTORIA ISLAND, LAGOS   \n",
       "126                                                OGBA   \n",
       "\n",
       "     employment_status_clients level_of_education_clients good_bad_flag  \\\n",
       "435                  Permanent                    Primary           Bad   \n",
       "2695                 Permanent                   Graduate          Good   \n",
       "3305                 Permanent                   Graduate          Good   \n",
       "3150                 Permanent                  Secondary          Good   \n",
       "126                  Permanent                   Graduate          Good   \n",
       "\n",
       "       Age_log  loannumber_log  loanamount_log  totaldue_log  termdays_log  \n",
       "435   3.465736        0.693147        9.210340      9.350102      2.708050  \n",
       "2695  3.737670        1.609438       10.308953     10.571317      4.094345  \n",
       "3305  3.761200        2.079442        9.903488     10.106428      3.401197  \n",
       "3150  3.761200        2.197225       10.308953     10.571317      4.094345  \n",
       "126   3.688879        1.098612        9.210340      9.350102      2.708050  "
      ]
     },
     "execution_count": 33,
     "metadata": {},
     "output_type": "execute_result"
    }
   ],
   "source": [
    "# view the first n rows of the dataframe\n",
    "\n",
    "df.head()"
   ]
  },
  {
   "cell_type": "markdown",
   "id": "5ec77f45",
   "metadata": {},
   "source": [
    "# LABEL ENCODING"
   ]
  },
  {
   "cell_type": "code",
   "execution_count": 34,
   "id": "c9ebcbb4",
   "metadata": {},
   "outputs": [],
   "source": [
    "# use label encoder to transform the good_bad_flag column to numberical variables\n",
    "\n",
    "from sklearn.preprocessing import LabelEncoder\n",
    "\n",
    "mycol = ['bank_account_type', 'bank_name_clients', 'bank_branch_clients', 'employment_status_clients', \n",
    "         'level_of_education_clients', 'good_bad_flag']\n",
    "lenc = LabelEncoder()\n",
    "for col in mycol:\n",
    "    df[col] = lenc.fit_transform(df[col])"
   ]
  },
  {
   "cell_type": "code",
   "execution_count": 35,
   "id": "54aa97a8",
   "metadata": {
    "scrolled": true
   },
   "outputs": [
    {
     "data": {
      "text/html": [
       "<div>\n",
       "<style scoped>\n",
       "    .dataframe tbody tr th:only-of-type {\n",
       "        vertical-align: middle;\n",
       "    }\n",
       "\n",
       "    .dataframe tbody tr th {\n",
       "        vertical-align: top;\n",
       "    }\n",
       "\n",
       "    .dataframe thead th {\n",
       "        text-align: right;\n",
       "    }\n",
       "</style>\n",
       "<table border=\"1\" class=\"dataframe\">\n",
       "  <thead>\n",
       "    <tr style=\"text-align: right;\">\n",
       "      <th></th>\n",
       "      <th>bank_account_type</th>\n",
       "      <th>bank_name_clients</th>\n",
       "      <th>bank_branch_clients</th>\n",
       "      <th>employment_status_clients</th>\n",
       "      <th>level_of_education_clients</th>\n",
       "      <th>good_bad_flag</th>\n",
       "      <th>Age_log</th>\n",
       "      <th>loannumber_log</th>\n",
       "      <th>loanamount_log</th>\n",
       "      <th>totaldue_log</th>\n",
       "      <th>termdays_log</th>\n",
       "    </tr>\n",
       "  </thead>\n",
       "  <tbody>\n",
       "    <tr>\n",
       "      <th>435</th>\n",
       "      <td>2</td>\n",
       "      <td>6</td>\n",
       "      <td>24</td>\n",
       "      <td>1</td>\n",
       "      <td>2</td>\n",
       "      <td>0</td>\n",
       "      <td>3.465736</td>\n",
       "      <td>0.693147</td>\n",
       "      <td>9.210340</td>\n",
       "      <td>9.350102</td>\n",
       "      <td>2.708050</td>\n",
       "    </tr>\n",
       "    <tr>\n",
       "      <th>2695</th>\n",
       "      <td>1</td>\n",
       "      <td>11</td>\n",
       "      <td>22</td>\n",
       "      <td>1</td>\n",
       "      <td>0</td>\n",
       "      <td>1</td>\n",
       "      <td>3.737670</td>\n",
       "      <td>1.609438</td>\n",
       "      <td>10.308953</td>\n",
       "      <td>10.571317</td>\n",
       "      <td>4.094345</td>\n",
       "    </tr>\n",
       "    <tr>\n",
       "      <th>3305</th>\n",
       "      <td>2</td>\n",
       "      <td>6</td>\n",
       "      <td>17</td>\n",
       "      <td>1</td>\n",
       "      <td>0</td>\n",
       "      <td>1</td>\n",
       "      <td>3.761200</td>\n",
       "      <td>2.079442</td>\n",
       "      <td>9.903488</td>\n",
       "      <td>10.106428</td>\n",
       "      <td>3.401197</td>\n",
       "    </tr>\n",
       "    <tr>\n",
       "      <th>3150</th>\n",
       "      <td>2</td>\n",
       "      <td>5</td>\n",
       "      <td>1</td>\n",
       "      <td>1</td>\n",
       "      <td>3</td>\n",
       "      <td>1</td>\n",
       "      <td>3.761200</td>\n",
       "      <td>2.197225</td>\n",
       "      <td>10.308953</td>\n",
       "      <td>10.571317</td>\n",
       "      <td>4.094345</td>\n",
       "    </tr>\n",
       "    <tr>\n",
       "      <th>126</th>\n",
       "      <td>2</td>\n",
       "      <td>6</td>\n",
       "      <td>22</td>\n",
       "      <td>1</td>\n",
       "      <td>0</td>\n",
       "      <td>1</td>\n",
       "      <td>3.688879</td>\n",
       "      <td>1.098612</td>\n",
       "      <td>9.210340</td>\n",
       "      <td>9.350102</td>\n",
       "      <td>2.708050</td>\n",
       "    </tr>\n",
       "  </tbody>\n",
       "</table>\n",
       "</div>"
      ],
      "text/plain": [
       "      bank_account_type  bank_name_clients  bank_branch_clients  \\\n",
       "435                   2                  6                   24   \n",
       "2695                  1                 11                   22   \n",
       "3305                  2                  6                   17   \n",
       "3150                  2                  5                    1   \n",
       "126                   2                  6                   22   \n",
       "\n",
       "      employment_status_clients  level_of_education_clients  good_bad_flag  \\\n",
       "435                           1                           2              0   \n",
       "2695                          1                           0              1   \n",
       "3305                          1                           0              1   \n",
       "3150                          1                           3              1   \n",
       "126                           1                           0              1   \n",
       "\n",
       "       Age_log  loannumber_log  loanamount_log  totaldue_log  termdays_log  \n",
       "435   3.465736        0.693147        9.210340      9.350102      2.708050  \n",
       "2695  3.737670        1.609438       10.308953     10.571317      4.094345  \n",
       "3305  3.761200        2.079442        9.903488     10.106428      3.401197  \n",
       "3150  3.761200        2.197225       10.308953     10.571317      4.094345  \n",
       "126   3.688879        1.098612        9.210340      9.350102      2.708050  "
      ]
     },
     "execution_count": 35,
     "metadata": {},
     "output_type": "execute_result"
    }
   ],
   "source": [
    "# view the first n rows of the dataframe\n",
    "\n",
    "df.head()"
   ]
  },
  {
   "cell_type": "markdown",
   "id": "8c6a87de",
   "metadata": {},
   "source": [
    "# ONE HOT ENCODING"
   ]
  },
  {
   "cell_type": "code",
   "execution_count": 36,
   "id": "3fcd2061",
   "metadata": {
    "scrolled": true
   },
   "outputs": [],
   "source": [
    "# df2 = pd.get_dummies(df)\n",
    "# df2.head()"
   ]
  },
  {
   "cell_type": "markdown",
   "id": "b4bbbcce",
   "metadata": {},
   "source": [
    "# CREATION OF THE INPUT AND OUTPUT VARIABLES"
   ]
  },
  {
   "cell_type": "code",
   "execution_count": 37,
   "id": "3d21a5a0",
   "metadata": {},
   "outputs": [],
   "source": [
    "# create the input and output attributes for the train-test split\n",
    "\n",
    "X = df.drop(['good_bad_flag'], axis = 1)"
   ]
  },
  {
   "cell_type": "code",
   "execution_count": 38,
   "id": "f4113332",
   "metadata": {},
   "outputs": [],
   "source": [
    "y = df['good_bad_flag']"
   ]
  },
  {
   "cell_type": "code",
   "execution_count": 39,
   "id": "398ffdb1",
   "metadata": {},
   "outputs": [
    {
     "data": {
      "text/html": [
       "<div>\n",
       "<style scoped>\n",
       "    .dataframe tbody tr th:only-of-type {\n",
       "        vertical-align: middle;\n",
       "    }\n",
       "\n",
       "    .dataframe tbody tr th {\n",
       "        vertical-align: top;\n",
       "    }\n",
       "\n",
       "    .dataframe thead th {\n",
       "        text-align: right;\n",
       "    }\n",
       "</style>\n",
       "<table border=\"1\" class=\"dataframe\">\n",
       "  <thead>\n",
       "    <tr style=\"text-align: right;\">\n",
       "      <th></th>\n",
       "      <th>bank_account_type</th>\n",
       "      <th>bank_name_clients</th>\n",
       "      <th>bank_branch_clients</th>\n",
       "      <th>employment_status_clients</th>\n",
       "      <th>level_of_education_clients</th>\n",
       "      <th>Age_log</th>\n",
       "      <th>loannumber_log</th>\n",
       "      <th>loanamount_log</th>\n",
       "      <th>totaldue_log</th>\n",
       "      <th>termdays_log</th>\n",
       "    </tr>\n",
       "  </thead>\n",
       "  <tbody>\n",
       "    <tr>\n",
       "      <th>435</th>\n",
       "      <td>2</td>\n",
       "      <td>6</td>\n",
       "      <td>24</td>\n",
       "      <td>1</td>\n",
       "      <td>2</td>\n",
       "      <td>3.465736</td>\n",
       "      <td>0.693147</td>\n",
       "      <td>9.210340</td>\n",
       "      <td>9.350102</td>\n",
       "      <td>2.708050</td>\n",
       "    </tr>\n",
       "    <tr>\n",
       "      <th>2695</th>\n",
       "      <td>1</td>\n",
       "      <td>11</td>\n",
       "      <td>22</td>\n",
       "      <td>1</td>\n",
       "      <td>0</td>\n",
       "      <td>3.737670</td>\n",
       "      <td>1.609438</td>\n",
       "      <td>10.308953</td>\n",
       "      <td>10.571317</td>\n",
       "      <td>4.094345</td>\n",
       "    </tr>\n",
       "    <tr>\n",
       "      <th>3305</th>\n",
       "      <td>2</td>\n",
       "      <td>6</td>\n",
       "      <td>17</td>\n",
       "      <td>1</td>\n",
       "      <td>0</td>\n",
       "      <td>3.761200</td>\n",
       "      <td>2.079442</td>\n",
       "      <td>9.903488</td>\n",
       "      <td>10.106428</td>\n",
       "      <td>3.401197</td>\n",
       "    </tr>\n",
       "    <tr>\n",
       "      <th>3150</th>\n",
       "      <td>2</td>\n",
       "      <td>5</td>\n",
       "      <td>1</td>\n",
       "      <td>1</td>\n",
       "      <td>3</td>\n",
       "      <td>3.761200</td>\n",
       "      <td>2.197225</td>\n",
       "      <td>10.308953</td>\n",
       "      <td>10.571317</td>\n",
       "      <td>4.094345</td>\n",
       "    </tr>\n",
       "    <tr>\n",
       "      <th>126</th>\n",
       "      <td>2</td>\n",
       "      <td>6</td>\n",
       "      <td>22</td>\n",
       "      <td>1</td>\n",
       "      <td>0</td>\n",
       "      <td>3.688879</td>\n",
       "      <td>1.098612</td>\n",
       "      <td>9.210340</td>\n",
       "      <td>9.350102</td>\n",
       "      <td>2.708050</td>\n",
       "    </tr>\n",
       "  </tbody>\n",
       "</table>\n",
       "</div>"
      ],
      "text/plain": [
       "      bank_account_type  bank_name_clients  bank_branch_clients  \\\n",
       "435                   2                  6                   24   \n",
       "2695                  1                 11                   22   \n",
       "3305                  2                  6                   17   \n",
       "3150                  2                  5                    1   \n",
       "126                   2                  6                   22   \n",
       "\n",
       "      employment_status_clients  level_of_education_clients   Age_log  \\\n",
       "435                           1                           2  3.465736   \n",
       "2695                          1                           0  3.737670   \n",
       "3305                          1                           0  3.761200   \n",
       "3150                          1                           3  3.761200   \n",
       "126                           1                           0  3.688879   \n",
       "\n",
       "      loannumber_log  loanamount_log  totaldue_log  termdays_log  \n",
       "435         0.693147        9.210340      9.350102      2.708050  \n",
       "2695        1.609438       10.308953     10.571317      4.094345  \n",
       "3305        2.079442        9.903488     10.106428      3.401197  \n",
       "3150        2.197225       10.308953     10.571317      4.094345  \n",
       "126         1.098612        9.210340      9.350102      2.708050  "
      ]
     },
     "execution_count": 39,
     "metadata": {},
     "output_type": "execute_result"
    }
   ],
   "source": [
    "# view the first n rows of the x variable\n",
    "\n",
    "X.head()"
   ]
  },
  {
   "cell_type": "code",
   "execution_count": 40,
   "id": "87e72181",
   "metadata": {},
   "outputs": [
    {
     "data": {
      "text/plain": [
       "435     0\n",
       "2695    1\n",
       "3305    1\n",
       "3150    1\n",
       "126     1\n",
       "Name: good_bad_flag, dtype: int32"
      ]
     },
     "execution_count": 40,
     "metadata": {},
     "output_type": "execute_result"
    }
   ],
   "source": [
    "y.head()"
   ]
  },
  {
   "cell_type": "markdown",
   "id": "2439e183",
   "metadata": {},
   "source": [
    "# CHECK IF DATASET IS IMBALANCED"
   ]
  },
  {
   "cell_type": "code",
   "execution_count": 41,
   "id": "4802f58e",
   "metadata": {},
   "outputs": [
    {
     "data": {
      "text/plain": [
       "1    3409\n",
       "0     951\n",
       "Name: good_bad_flag, dtype: int64"
      ]
     },
     "execution_count": 41,
     "metadata": {},
     "output_type": "execute_result"
    }
   ],
   "source": [
    "# count the target variable dataset to check for imbalance\n",
    "\n",
    "df.good_bad_flag.value_counts()"
   ]
  },
  {
   "cell_type": "code",
   "execution_count": 42,
   "id": "45219827",
   "metadata": {},
   "outputs": [
    {
     "data": {
      "image/png": "[encoded data removed]",
      "text/plain": [
       "<Figure size 432x288 with 1 Axes>"
      ]
     },
     "metadata": {
      "needs_background": "light"
     },
     "output_type": "display_data"
    }
   ],
   "source": [
    "# visualise the imbalanced dataset\n",
    "\n",
    "target_var = df['good_bad_flag'].value_counts().reset_index()\n",
    "sns.barplot(x = \"index\", y = \"good_bad_flag\", data = target_var, palette = 'cividis');"
   ]
  },
  {
   "cell_type": "markdown",
   "id": "8db448a3",
   "metadata": {},
   "source": [
    "# BALANCE DATASET USING SMOTE"
   ]
  },
  {
   "cell_type": "code",
   "execution_count": 43,
   "id": "3a1245aa",
   "metadata": {},
   "outputs": [],
   "source": [
    "# import SMOTE to be used to balance the dataset\n",
    "\n",
    "from imblearn.over_sampling import SMOTE\n",
    "smote = SMOTE()\n",
    "X_smote, y_smote = smote.fit_resample(X.astype('float'), y)    # assign the target variable as the dataset to be balanced"
   ]
  },
  {
   "cell_type": "code",
   "execution_count": 44,
   "id": "14fc4e37",
   "metadata": {},
   "outputs": [
    {
     "name": "stdout",
     "output_type": "stream",
     "text": [
      "Records after SMOTE: Counter({1: 3409, 0: 951})\n",
      "Records after SMOTE: Counter({0: 3409, 1: 3409})\n"
     ]
    }
   ],
   "source": [
    "# import counter to show count of the y-variable before and after SMOTE application\n",
    "\n",
    "from collections import Counter\n",
    "\n",
    "print(\"Records after SMOTE:\", Counter(y))\n",
    "print(\"Records after SMOTE:\", Counter(y_smote))"
   ]
  },
  {
   "cell_type": "code",
   "execution_count": 45,
   "id": "a901db64",
   "metadata": {},
   "outputs": [
    {
     "data": {
      "image/png": "[encoded data removed]",
      "text/plain": [
       "<Figure size 432x288 with 1 Axes>"
      ]
     },
     "metadata": {
      "needs_background": "light"
     },
     "output_type": "display_data"
    }
   ],
   "source": [
    "# plot the barchart of the balanced data\n",
    "\n",
    "tar_var2 = y_smote.value_counts().reset_index()\n",
    "\n",
    "sns.barplot(x = \"index\", y = \"good_bad_flag\", data = tar_var2, palette = 'rocket');"
   ]
  },
  {
   "cell_type": "markdown",
   "id": "b7e06979",
   "metadata": {},
   "source": [
    "# IMPORTANT FEATURES"
   ]
  },
  {
   "cell_type": "code",
   "execution_count": 46,
   "id": "260419f2",
   "metadata": {},
   "outputs": [
    {
     "data": {
      "image/png": "[encoded data removed]",
      "text/plain": [
       "<Figure size 720x576 with 1 Axes>"
      ]
     },
     "metadata": {
      "needs_background": "light"
     },
     "output_type": "display_data"
    }
   ],
   "source": [
    "# check for the most important features in the dataset\n",
    "\n",
    "from skfeature.function.similarity_based import fisher_score           # import appropriate library\n",
    "\n",
    "X = df\n",
    "y = df['good_bad_flag']\n",
    "\n",
    "scores = fisher_score.fisher_score(X.to_numpy(), y.to_numpy())\n",
    "\n",
    "important_feat = pd.Series(scores, df.columns[0:len(df.columns)])\n",
    "important_feat.plot(kind='barh', figsize=(10,8), color = 'purple')        # use a barplot to show levels of importance\n",
    "plt.show()"
   ]
  },
  {
   "cell_type": "markdown",
   "id": "6b62e0f6",
   "metadata": {},
   "source": [
    "# DROP THE LEAST IMPORT FEATURE"
   ]
  },
  {
   "cell_type": "code",
   "execution_count": 47,
   "id": "13285928",
   "metadata": {},
   "outputs": [],
   "source": [
    "# drop the the least important column \n",
    "\n",
    "mycol2 = ['loannumber_log']\n",
    "df = df.drop(columns = mycol2, axis = 1)"
   ]
  },
  {
   "cell_type": "code",
   "execution_count": 48,
   "id": "58ef458a",
   "metadata": {},
   "outputs": [
    {
     "data": {
      "text/html": [
       "<div>\n",
       "<style scoped>\n",
       "    .dataframe tbody tr th:only-of-type {\n",
       "        vertical-align: middle;\n",
       "    }\n",
       "\n",
       "    .dataframe tbody tr th {\n",
       "        vertical-align: top;\n",
       "    }\n",
       "\n",
       "    .dataframe thead th {\n",
       "        text-align: right;\n",
       "    }\n",
       "</style>\n",
       "<table border=\"1\" class=\"dataframe\">\n",
       "  <thead>\n",
       "    <tr style=\"text-align: right;\">\n",
       "      <th></th>\n",
       "      <th>bank_account_type</th>\n",
       "      <th>bank_name_clients</th>\n",
       "      <th>bank_branch_clients</th>\n",
       "      <th>employment_status_clients</th>\n",
       "      <th>level_of_education_clients</th>\n",
       "      <th>good_bad_flag</th>\n",
       "      <th>Age_log</th>\n",
       "      <th>loanamount_log</th>\n",
       "      <th>totaldue_log</th>\n",
       "      <th>termdays_log</th>\n",
       "    </tr>\n",
       "  </thead>\n",
       "  <tbody>\n",
       "    <tr>\n",
       "      <th>435</th>\n",
       "      <td>2</td>\n",
       "      <td>6</td>\n",
       "      <td>24</td>\n",
       "      <td>1</td>\n",
       "      <td>2</td>\n",
       "      <td>0</td>\n",
       "      <td>3.465736</td>\n",
       "      <td>9.210340</td>\n",
       "      <td>9.350102</td>\n",
       "      <td>2.708050</td>\n",
       "    </tr>\n",
       "    <tr>\n",
       "      <th>2695</th>\n",
       "      <td>1</td>\n",
       "      <td>11</td>\n",
       "      <td>22</td>\n",
       "      <td>1</td>\n",
       "      <td>0</td>\n",
       "      <td>1</td>\n",
       "      <td>3.737670</td>\n",
       "      <td>10.308953</td>\n",
       "      <td>10.571317</td>\n",
       "      <td>4.094345</td>\n",
       "    </tr>\n",
       "    <tr>\n",
       "      <th>3305</th>\n",
       "      <td>2</td>\n",
       "      <td>6</td>\n",
       "      <td>17</td>\n",
       "      <td>1</td>\n",
       "      <td>0</td>\n",
       "      <td>1</td>\n",
       "      <td>3.761200</td>\n",
       "      <td>9.903488</td>\n",
       "      <td>10.106428</td>\n",
       "      <td>3.401197</td>\n",
       "    </tr>\n",
       "    <tr>\n",
       "      <th>3150</th>\n",
       "      <td>2</td>\n",
       "      <td>5</td>\n",
       "      <td>1</td>\n",
       "      <td>1</td>\n",
       "      <td>3</td>\n",
       "      <td>1</td>\n",
       "      <td>3.761200</td>\n",
       "      <td>10.308953</td>\n",
       "      <td>10.571317</td>\n",
       "      <td>4.094345</td>\n",
       "    </tr>\n",
       "    <tr>\n",
       "      <th>126</th>\n",
       "      <td>2</td>\n",
       "      <td>6</td>\n",
       "      <td>22</td>\n",
       "      <td>1</td>\n",
       "      <td>0</td>\n",
       "      <td>1</td>\n",
       "      <td>3.688879</td>\n",
       "      <td>9.210340</td>\n",
       "      <td>9.350102</td>\n",
       "      <td>2.708050</td>\n",
       "    </tr>\n",
       "  </tbody>\n",
       "</table>\n",
       "</div>"
      ],
      "text/plain": [
       "      bank_account_type  bank_name_clients  bank_branch_clients  \\\n",
       "435                   2                  6                   24   \n",
       "2695                  1                 11                   22   \n",
       "3305                  2                  6                   17   \n",
       "3150                  2                  5                    1   \n",
       "126                   2                  6                   22   \n",
       "\n",
       "      employment_status_clients  level_of_education_clients  good_bad_flag  \\\n",
       "435                           1                           2              0   \n",
       "2695                          1                           0              1   \n",
       "3305                          1                           0              1   \n",
       "3150                          1                           3              1   \n",
       "126                           1                           0              1   \n",
       "\n",
       "       Age_log  loanamount_log  totaldue_log  termdays_log  \n",
       "435   3.465736        9.210340      9.350102      2.708050  \n",
       "2695  3.737670       10.308953     10.571317      4.094345  \n",
       "3305  3.761200        9.903488     10.106428      3.401197  \n",
       "3150  3.761200       10.308953     10.571317      4.094345  \n",
       "126   3.688879        9.210340      9.350102      2.708050  "
      ]
     },
     "execution_count": 48,
     "metadata": {},
     "output_type": "execute_result"
    }
   ],
   "source": [
    "df.head()"
   ]
  },
  {
   "cell_type": "markdown",
   "id": "59ec96d7",
   "metadata": {},
   "source": [
    "# TRAIN AND TEST SPLIT"
   ]
  },
  {
   "cell_type": "code",
   "execution_count": 55,
   "id": "54d63a24",
   "metadata": {},
   "outputs": [],
   "source": [
    "# Use the train-test-split to split the dataset\n",
    "\n",
    "from sklearn.model_selection import train_test_split\n",
    "\n",
    "X_train, X_test, y_train, y_test = train_test_split(X_smote, y_smote, test_size = 0.30, random_state = 100)"
   ]
  },
  {
   "cell_type": "markdown",
   "id": "6c18c2d3",
   "metadata": {},
   "source": [
    "# MODEL BUILDING, TRAINING AND EVALUATION"
   ]
  },
  {
   "cell_type": "code",
   "execution_count": 61,
   "id": "0110df62",
   "metadata": {},
   "outputs": [],
   "source": [
    "# import modules for model evaluation\n",
    "\n",
    "from sklearn.model_selection import cross_val_score\n",
    "from sklearn.metrics import accuracy_score\n",
    "from sklearn.metrics import confusion_matrix\n",
    "from sklearn.metrics import precision_score\n",
    "from sklearn.metrics import recall_ssetcore\n",
    "from sklearn.metrics import f1_score\n",
    "from sklearn.model_selection import KFold\n",
    "from sklearn.metrics import classification_report\n",
    "\n",
    "# classifying the function for the model training and evaluation\n",
    "\n",
    "def classify(model, X, y):\n",
    "    X_train, X_test, y_train, y_test = train_test_split(X_smote, y_smote, test_size = 0.30, random_state = 100)\n",
    "    model.fit(X_train, y_train)\n",
    "    \n",
    "    # predict the accuracy of the models\n",
    "    y_predict = model.predict(X_test)\n",
    "    print(accuracy_score(y_test, y_predict)*100, \"is the Accuracy Score\") # print the accuracy score\n",
    "   \n",
    "    # use k-fold cross validation to better validate the models   \n",
    "    kf = KFold(n_splits = 150, random_state=1, shuffle=True)  \n",
    "    my_cv_score = cross_val_score(model, X_smote, y_smote, cv=kf) \n",
    "    print(my_cv_score.mean()*100, \"is the Cross Validation score\")         # print the cross validation score\n",
    "    \n",
    "    # check the precision scores of the models\n",
    "    precision = precision_score(y_test, y_predict)\n",
    "    print(precision *100, \"is the Precision score\")\n",
    "    \n",
    "    # check the recall scores of the models\n",
    "    recall = recall_score(y_test, y_predict)\n",
    "    print(recall *100, \"is the recall score\")\n",
    "    \n",
    "    # check the F1 score of the models \n",
    "    f1score = f1_score(y_test, y_predict)\n",
    "    print(f1score *100, \"is the f1 score\")\n",
    "    \n",
    "    # get classification report for each model\n",
    "    print(classification_report(y_test, y_predict))\n",
    "        \n",
    "    # summarize the performance of the models using confusion matrix\n",
    "    model_cm = confusion_matrix(y_test, y_predict)\n",
    "    print(model_cm)\n",
    "    sns.heatmap(model_cm, annot=True)                                  # use a heatmap to plot the confusion matrix"
   ]
  },
  {
   "cell_type": "code",
   "execution_count": 62,
   "id": "06e85c7b",
   "metadata": {},
   "outputs": [
    {
     "name": "stdout",
     "output_type": "stream",
     "text": [
      "59.09090909090909 is the Accuracy Score\n",
      "58.95748792270532 is the Cross Validation score\n",
      "59.227467811158796 is the Precision score\n",
      "54.70763131813678 is the recall score\n",
      "56.87789799072643 is the f1 score\n",
      "              precision    recall  f1-score   support\n",
      "\n",
      "           0       0.59      0.63      0.61      1037\n",
      "           1       0.59      0.55      0.57      1009\n",
      "\n",
      "    accuracy                           0.59      2046\n",
      "   macro avg       0.59      0.59      0.59      2046\n",
      "weighted avg       0.59      0.59      0.59      2046\n",
      "\n",
      "[[657 380]\n",
      " [457 552]]\n"
     ]
    },
    {
     "data": {
      "image/png": "[encoded data removed]",
      "text/plain": [
       "<Figure size 432x288 with 2 Axes>"
      ]
     },
     "metadata": {
      "needs_background": "light"
     },
     "output_type": "display_data"
    }
   ],
   "source": [
    "# build, train and evaluate the LR model\n",
    "\n",
    "from sklearn.linear_model import LogisticRegression\n",
    "\n",
    "logreg = LogisticRegression(solver='lbfgs', max_iter=1000)\n",
    "LR = classify(logreg, X, y)"
   ]
  },
  {
   "cell_type": "code",
   "execution_count": 65,
   "id": "077da28d",
   "metadata": {},
   "outputs": [
    {
     "name": "stdout",
     "output_type": "stream",
     "text": [
      "72.58064516129032 is the Accuracy Score\n",
      "74.97455716586151 is the Cross Validation score\n",
      "72.44488977955912 is the Precision score\n",
      "71.65510406342915 is the recall score\n",
      "72.0478325859492 is the f1 score\n",
      "              precision    recall  f1-score   support\n",
      "\n",
      "           0       0.73      0.73      0.73      1037\n",
      "           1       0.72      0.72      0.72      1009\n",
      "\n",
      "    accuracy                           0.73      2046\n",
      "   macro avg       0.73      0.73      0.73      2046\n",
      "weighted avg       0.73      0.73      0.73      2046\n",
      "\n",
      "[[762 275]\n",
      " [286 723]]\n"
     ]
    },
    {
     "data": {
      "image/png": "[encoded data removed]",
      "text/plain": [
       "<Figure size 432x288 with 2 Axes>"
      ]
     },
     "metadata": {
      "needs_background": "light"
     },
     "output_type": "display_data"
    }
   ],
   "source": [
    "# build, train and evaluate the Random Forest model\n",
    "\n",
    "from sklearn.ensemble import RandomForestClassifier\n",
    "\n",
    "RF = RandomForestClassifier(n_estimators=1000, max_features='sqrt', criterion='entropy', bootstrap=True)\n",
    "RFC = classify(RF, X, y)"
   ]
  },
  {
   "cell_type": "code",
   "execution_count": 83,
   "id": "ddcc9750",
   "metadata": {},
   "outputs": [
    {
     "name": "stdout",
     "output_type": "stream",
     "text": [
      "76.73509286412512 is the Accuracy Score\n",
      "78.35909822866344 is the Cross Validation score\n",
      "76.46474677259185 is the Precision score\n",
      "76.31318136769079 is the recall score\n",
      "76.3888888888889 is the f1 score\n",
      "              precision    recall  f1-score   support\n",
      "\n",
      "           0       0.77      0.77      0.77      1037\n",
      "           1       0.76      0.76      0.76      1009\n",
      "\n",
      "    accuracy                           0.77      2046\n",
      "   macro avg       0.77      0.77      0.77      2046\n",
      "weighted avg       0.77      0.77      0.77      2046\n",
      "\n",
      "[[800 237]\n",
      " [239 770]]\n"
     ]
    },
    {
     "data": {
      "image/png": "[encoded data removed]",
      "text/plain": [
       "<Figure size 432x288 with 2 Axes>"
      ]
     },
     "metadata": {
      "needs_background": "light"
     },
     "output_type": "display_data"
    }
   ],
   "source": [
    "# build, train and evaluate the XGBoost model\n",
    "\n",
    "from xgboost import XGBClassifier\n",
    "\n",
    "XGB = XGBClassifier(max_depth=10, subsample=1, n_estimators=1500, learning_rate=0.025, \n",
    "                    min_child_weight=1, booster='gbtree', reg_alpha=0, reg_lambda=1)\n",
    "XGBC = classify(XGB, X, y)"
   ]
  },
  {
   "cell_type": "code",
   "execution_count": 82,
   "id": "33772dfb",
   "metadata": {},
   "outputs": [
    {
     "name": "stdout",
     "output_type": "stream",
     "text": [
      "59.09090909090909 is the Accuracy Score\n",
      "58.65507246376811 is the Cross Validation score\n",
      "61.13989637305699 is the Precision score\n",
      "46.778989098116945 is the recall score\n",
      "53.00393037619314 is the f1 score\n",
      "              precision    recall  f1-score   support\n",
      "\n",
      "           0       0.58      0.71      0.64      1037\n",
      "           1       0.61      0.47      0.53      1009\n",
      "\n",
      "    accuracy                           0.59      2046\n",
      "   macro avg       0.59      0.59      0.58      2046\n",
      "weighted avg       0.59      0.59      0.58      2046\n",
      "\n",
      "[[737 300]\n",
      " [537 472]]\n"
     ]
    },
    {
     "data": {
      "image/png": "[encoded data removed]",
      "text/plain": [
       "<Figure size 432x288 with 2 Axes>"
      ]
     },
     "metadata": {
      "needs_background": "light"
     },
     "output_type": "display_data"
    }
   ],
   "source": [
    "# build, train and evaluate the SVC model\n",
    "\n",
    "from sklearn.svm import SVC\n",
    "\n",
    "svm = SVC(kernel='linear', C=1, degree=1, gamma=1)\n",
    "SVM = classify(svm, X, y)"
   ]
  }
 ],
 "metadata": {
  "kernelspec": {
   "display_name": "Python 3",
   "language": "python",
   "name": "python3"
  },
  "language_info": {
   "codemirror_mode": {
    "name": "ipython",
    "version": 3
   },
   "file_extension": ".py",
   "mimetype": "text/x-python",
   "name": "python",
   "nbconvert_exporter": "python",
   "pygments_lexer": "ipython3",
   "version": "3.8.8"
  }
 },
 "nbformat": 4,
 "nbformat_minor": 5
}
